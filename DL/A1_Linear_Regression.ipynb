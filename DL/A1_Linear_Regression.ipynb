{
 "cells": [
  {
   "attachments": {},
   "cell_type": "markdown",
   "metadata": {},
   "source": [
    "# ASSIGNMENT - 1"
   ]
  },
  {
   "attachments": {},
   "cell_type": "markdown",
   "metadata": {},
   "source": [
    "### Problem Statement\n",
    "\n",
    "Linear regression by using Deep Neural network: Implement Boston housing price prediction problem by Linear regression using Deep Neural network. Use Boston House price prediction dataset."
   ]
  },
  {
   "cell_type": "markdown",
   "metadata": {
    "papermill": {
     "duration": 0.034759,
     "end_time": "2020-10-07T20:55:54.783484",
     "exception": false,
     "start_time": "2020-10-07T20:55:54.748725",
     "status": "completed"
    },
    "tags": []
   },
   "source": [
    "<a id = 'data'></a>\n",
    "# About the Dataset"
   ]
  },
  {
   "attachments": {},
   "cell_type": "markdown",
   "metadata": {
    "papermill": {
     "duration": 0.034576,
     "end_time": "2020-10-07T20:55:54.853348",
     "exception": false,
     "start_time": "2020-10-07T20:55:54.818772",
     "status": "completed"
    },
    "tags": []
   },
   "source": [
    "The dataset used in this project comes from the UCI Machine Learning Repository. This data was collected in 1978 and each of the 506 entries represents aggregate information about 14 features of homes from various suburbs located in Boston.\n",
    "\n",
    "The features can be summarized as follows:\n",
    "* CRIM: This is the per capita crime rate by town\n",
    "* ZN: This is the proportion of residential land zoned for lots larger than 25,000 sq.ft.\n",
    "* INDUS: This is the proportion of non-retail business acres per town.\n",
    "* CHAS: This is the Charles River dummy variable (this is equal to 1 if tract bounds river; 0 otherwise)\n",
    "* NOX: This is the nitric oxides concentration (parts per 10 million)\n",
    "* RM: This is the average number of rooms per dwelling\n",
    "* AGE: This is the proportion of owner-occupied units built prior to 1940\n",
    "* DIS: This is the weighted distances to five Boston employment centers\n",
    "* RAD: This is the index of accessibility to radial highways\n",
    "* TAX: This is the full-value property-tax rate per 1000 bucks\n",
    "* PTRATIO: This is the pupil-teacher ratio by town\n",
    "* B: This is calculated as 1000(Bk — 0.63)², where Bk is the proportion of people of African American descent by town\n",
    "* LSTAT: This is the percentage lower status of the population\n",
    "* PRICE: This is the median value of owner-occupied homes in 1000s"
   ]
  },
  {
   "cell_type": "markdown",
   "metadata": {
    "papermill": {
     "duration": 0.033948,
     "end_time": "2020-10-07T20:55:54.921799",
     "exception": false,
     "start_time": "2020-10-07T20:55:54.887851",
     "status": "completed"
    },
    "tags": []
   },
   "source": [
    "<a id = 'library'></a>\n",
    "# Importing libraries and the dataset\n",
    "Unlike the conventional way, I import the library when it is needed. It will actually help you to understand where the application of the class and it's function is used"
   ]
  },
  {
   "cell_type": "code",
   "execution_count": 1,
   "metadata": {
    "_cell_guid": "b1076dfc-b9ad-4769-8c92-a6c4dae69d19",
    "_uuid": "8f2839f25d086af736a60e9eeb907d3b93b6e0e5",
    "execution": {
     "iopub.execute_input": "2020-10-07T20:55:54.996776Z",
     "iopub.status.busy": "2020-10-07T20:55:54.995700Z",
     "iopub.status.idle": "2020-10-07T20:55:54.999523Z",
     "shell.execute_reply": "2020-10-07T20:55:54.998860Z"
    },
    "papermill": {
     "duration": 0.043524,
     "end_time": "2020-10-07T20:55:54.999653",
     "exception": false,
     "start_time": "2020-10-07T20:55:54.956129",
     "status": "completed"
    },
    "tags": []
   },
   "outputs": [],
   "source": [
    "import numpy as np # linear algebra\n",
    "import pandas as pd # data processing, CSV file I/O (e.g. pd.read_csv)\n",
    "\n",
    "#Lets load the dataset and sample some\n",
    "column_names = ['CRIM', 'ZN', 'INDUS', 'CHAS', 'NOX', 'RM', 'AGE', 'DIS', 'RAD', 'TAX', 'PTRATIO', 'B', 'LSTAT', 'PRICE']\n",
    "df = pd.read_csv('housing.csv', header=None, delimiter=r\"\\s+\", names=column_names)\n"
   ]
  },
  {
   "cell_type": "code",
   "execution_count": 2,
   "metadata": {},
   "outputs": [
    {
     "data": {
      "text/html": [
       "<div>\n",
       "<style scoped>\n",
       "    .dataframe tbody tr th:only-of-type {\n",
       "        vertical-align: middle;\n",
       "    }\n",
       "\n",
       "    .dataframe tbody tr th {\n",
       "        vertical-align: top;\n",
       "    }\n",
       "\n",
       "    .dataframe thead th {\n",
       "        text-align: right;\n",
       "    }\n",
       "</style>\n",
       "<table border=\"1\" class=\"dataframe\">\n",
       "  <thead>\n",
       "    <tr style=\"text-align: right;\">\n",
       "      <th></th>\n",
       "      <th>CRIM</th>\n",
       "      <th>ZN</th>\n",
       "      <th>INDUS</th>\n",
       "      <th>CHAS</th>\n",
       "      <th>NOX</th>\n",
       "      <th>RM</th>\n",
       "      <th>AGE</th>\n",
       "      <th>DIS</th>\n",
       "      <th>RAD</th>\n",
       "      <th>TAX</th>\n",
       "      <th>PTRATIO</th>\n",
       "      <th>B</th>\n",
       "      <th>LSTAT</th>\n",
       "      <th>PRICE</th>\n",
       "    </tr>\n",
       "  </thead>\n",
       "  <tbody>\n",
       "    <tr>\n",
       "      <th>0</th>\n",
       "      <td>0.00632</td>\n",
       "      <td>18.0</td>\n",
       "      <td>2.31</td>\n",
       "      <td>0</td>\n",
       "      <td>0.538</td>\n",
       "      <td>6.575</td>\n",
       "      <td>65.2</td>\n",
       "      <td>4.0900</td>\n",
       "      <td>1</td>\n",
       "      <td>296.0</td>\n",
       "      <td>15.3</td>\n",
       "      <td>396.90</td>\n",
       "      <td>4.98</td>\n",
       "      <td>24.0</td>\n",
       "    </tr>\n",
       "    <tr>\n",
       "      <th>1</th>\n",
       "      <td>0.02731</td>\n",
       "      <td>0.0</td>\n",
       "      <td>7.07</td>\n",
       "      <td>0</td>\n",
       "      <td>0.469</td>\n",
       "      <td>6.421</td>\n",
       "      <td>78.9</td>\n",
       "      <td>4.9671</td>\n",
       "      <td>2</td>\n",
       "      <td>242.0</td>\n",
       "      <td>17.8</td>\n",
       "      <td>396.90</td>\n",
       "      <td>9.14</td>\n",
       "      <td>21.6</td>\n",
       "    </tr>\n",
       "    <tr>\n",
       "      <th>2</th>\n",
       "      <td>0.02729</td>\n",
       "      <td>0.0</td>\n",
       "      <td>7.07</td>\n",
       "      <td>0</td>\n",
       "      <td>0.469</td>\n",
       "      <td>7.185</td>\n",
       "      <td>61.1</td>\n",
       "      <td>4.9671</td>\n",
       "      <td>2</td>\n",
       "      <td>242.0</td>\n",
       "      <td>17.8</td>\n",
       "      <td>392.83</td>\n",
       "      <td>4.03</td>\n",
       "      <td>34.7</td>\n",
       "    </tr>\n",
       "    <tr>\n",
       "      <th>3</th>\n",
       "      <td>0.03237</td>\n",
       "      <td>0.0</td>\n",
       "      <td>2.18</td>\n",
       "      <td>0</td>\n",
       "      <td>0.458</td>\n",
       "      <td>6.998</td>\n",
       "      <td>45.8</td>\n",
       "      <td>6.0622</td>\n",
       "      <td>3</td>\n",
       "      <td>222.0</td>\n",
       "      <td>18.7</td>\n",
       "      <td>394.63</td>\n",
       "      <td>2.94</td>\n",
       "      <td>33.4</td>\n",
       "    </tr>\n",
       "    <tr>\n",
       "      <th>4</th>\n",
       "      <td>0.06905</td>\n",
       "      <td>0.0</td>\n",
       "      <td>2.18</td>\n",
       "      <td>0</td>\n",
       "      <td>0.458</td>\n",
       "      <td>7.147</td>\n",
       "      <td>54.2</td>\n",
       "      <td>6.0622</td>\n",
       "      <td>3</td>\n",
       "      <td>222.0</td>\n",
       "      <td>18.7</td>\n",
       "      <td>396.90</td>\n",
       "      <td>5.33</td>\n",
       "      <td>36.2</td>\n",
       "    </tr>\n",
       "  </tbody>\n",
       "</table>\n",
       "</div>"
      ],
      "text/plain": [
       "      CRIM    ZN  INDUS  CHAS    NOX     RM   AGE     DIS  RAD    TAX  \\\n",
       "0  0.00632  18.0   2.31     0  0.538  6.575  65.2  4.0900    1  296.0   \n",
       "1  0.02731   0.0   7.07     0  0.469  6.421  78.9  4.9671    2  242.0   \n",
       "2  0.02729   0.0   7.07     0  0.469  7.185  61.1  4.9671    2  242.0   \n",
       "3  0.03237   0.0   2.18     0  0.458  6.998  45.8  6.0622    3  222.0   \n",
       "4  0.06905   0.0   2.18     0  0.458  7.147  54.2  6.0622    3  222.0   \n",
       "\n",
       "   PTRATIO       B  LSTAT  PRICE  \n",
       "0     15.3  396.90   4.98   24.0  \n",
       "1     17.8  396.90   9.14   21.6  \n",
       "2     17.8  392.83   4.03   34.7  \n",
       "3     18.7  394.63   2.94   33.4  \n",
       "4     18.7  396.90   5.33   36.2  "
      ]
     },
     "execution_count": 2,
     "metadata": {},
     "output_type": "execute_result"
    }
   ],
   "source": [
    "df.head(5)"
   ]
  },
  {
   "cell_type": "code",
   "execution_count": 3,
   "metadata": {
    "execution": {
     "iopub.execute_input": "2020-10-07T20:55:55.075743Z",
     "iopub.status.busy": "2020-10-07T20:55:55.074948Z",
     "iopub.status.idle": "2020-10-07T20:55:56.076895Z",
     "shell.execute_reply": "2020-10-07T20:55:56.076061Z"
    },
    "papermill": {
     "duration": 1.041634,
     "end_time": "2020-10-07T20:55:56.077031",
     "exception": false,
     "start_time": "2020-10-07T20:55:55.035397",
     "status": "completed"
    },
    "tags": []
   },
   "outputs": [
    {
     "name": "stdout",
     "output_type": "stream",
     "text": [
      "(506, 14)\n"
     ]
    }
   ],
   "source": [
    "# Dimension of the dataset\n",
    "print(np.shape(df))"
   ]
  },
  {
   "cell_type": "code",
   "execution_count": 4,
   "metadata": {
    "execution": {
     "iopub.execute_input": "2020-10-07T20:55:56.153905Z",
     "iopub.status.busy": "2020-10-07T20:55:56.153131Z",
     "iopub.status.idle": "2020-10-07T20:55:56.156586Z",
     "shell.execute_reply": "2020-10-07T20:55:56.155999Z"
    },
    "papermill": {
     "duration": 0.045059,
     "end_time": "2020-10-07T20:55:56.156714",
     "exception": false,
     "start_time": "2020-10-07T20:55:56.111655",
     "status": "completed"
    },
    "tags": []
   },
   "outputs": [
    {
     "name": "stdout",
     "output_type": "stream",
     "text": [
      "             CRIM          ZN       INDUS        CHAS         NOX          RM  \\\n",
      "count  506.000000  506.000000  506.000000  506.000000  506.000000  506.000000   \n",
      "mean     3.613524   11.363636   11.136779    0.069170    0.554695    6.284634   \n",
      "std      8.601545   23.322453    6.860353    0.253994    0.115878    0.702617   \n",
      "min      0.006320    0.000000    0.460000    0.000000    0.385000    3.561000   \n",
      "25%      0.082045    0.000000    5.190000    0.000000    0.449000    5.885500   \n",
      "50%      0.256510    0.000000    9.690000    0.000000    0.538000    6.208500   \n",
      "75%      3.677083   12.500000   18.100000    0.000000    0.624000    6.623500   \n",
      "max     88.976200  100.000000   27.740000    1.000000    0.871000    8.780000   \n",
      "\n",
      "              AGE         DIS         RAD         TAX     PTRATIO           B  \\\n",
      "count  506.000000  506.000000  506.000000  506.000000  506.000000  506.000000   \n",
      "mean    68.574901    3.795043    9.549407  408.237154   18.455534  356.674032   \n",
      "std     28.148861    2.105710    8.707259  168.537116    2.164946   91.294864   \n",
      "min      2.900000    1.129600    1.000000  187.000000   12.600000    0.320000   \n",
      "25%     45.025000    2.100175    4.000000  279.000000   17.400000  375.377500   \n",
      "50%     77.500000    3.207450    5.000000  330.000000   19.050000  391.440000   \n",
      "75%     94.075000    5.188425   24.000000  666.000000   20.200000  396.225000   \n",
      "max    100.000000   12.126500   24.000000  711.000000   22.000000  396.900000   \n",
      "\n",
      "            LSTAT       PRICE  \n",
      "count  506.000000  506.000000  \n",
      "mean    12.653063   22.532806  \n",
      "std      7.141062    9.197104  \n",
      "min      1.730000    5.000000  \n",
      "25%      6.950000   17.025000  \n",
      "50%     11.360000   21.200000  \n",
      "75%     16.955000   25.000000  \n",
      "max     37.970000   50.000000  \n"
     ]
    }
   ],
   "source": [
    "# Let's summarize the data to see the distribution of data\n",
    "print(df.describe())"
   ]
  },
  {
   "cell_type": "code",
   "execution_count": 5,
   "metadata": {
    "execution": {
     "iopub.execute_input": "2020-10-07T20:55:56.320312Z",
     "iopub.status.busy": "2020-10-07T20:55:56.319522Z",
     "iopub.status.idle": "2020-10-07T20:55:56.335439Z",
     "shell.execute_reply": "2020-10-07T20:55:56.336038Z"
    },
    "papermill": {
     "duration": 0.071719,
     "end_time": "2020-10-07T20:55:56.336192",
     "exception": false,
     "start_time": "2020-10-07T20:55:56.264473",
     "status": "completed"
    },
    "tags": []
   },
   "outputs": [
    {
     "data": {
      "image/png": "[encoded data removed]",
      "text/plain": [
       "<Figure size 1440x720 with 14 Axes>"
      ]
     },
     "metadata": {
      "needs_background": "light"
     },
     "output_type": "display_data"
    }
   ],
   "source": [
    "import seaborn as sns\n",
    "import matplotlib.pyplot as plt\n",
    "from scipy import stats\n",
    "\n",
    "fig, axs = plt.subplots(ncols=7, nrows=2, figsize=(20, 10))\n",
    "index = 0\n",
    "axs = axs.flatten()\n",
    "for k,v in df.items():\n",
    "    sns.boxplot(y=k, data=df, ax=axs[index])\n",
    "    index += 1\n",
    "plt.tight_layout(pad=0.4, w_pad=0.5, h_pad=5.0)"
   ]
  },
  {
   "cell_type": "code",
   "execution_count": 6,
   "metadata": {
    "execution": {
     "iopub.execute_input": "2020-10-07T20:55:56.414589Z",
     "iopub.status.busy": "2020-10-07T20:55:56.413718Z",
     "iopub.status.idle": "2020-10-07T20:55:56.416948Z",
     "shell.execute_reply": "2020-10-07T20:55:56.416281Z"
    },
    "papermill": {
     "duration": 0.044642,
     "end_time": "2020-10-07T20:55:56.417100",
     "exception": false,
     "start_time": "2020-10-07T20:55:56.372458",
     "status": "completed"
    },
    "tags": []
   },
   "outputs": [
    {
     "name": "stdout",
     "output_type": "stream",
     "text": [
      "Column CRIM outliers = 13.04%\n",
      "Column ZN outliers = 13.44%\n",
      "Column INDUS outliers = 0.00%\n",
      "Column CHAS outliers = 100.00%\n",
      "Column NOX outliers = 0.00%\n",
      "Column RM outliers = 5.93%\n"
     ]
    },
    {
     "name": "stdout",
     "output_type": "stream",
     "text": [
      "Column AGE outliers = 0.00%\n",
      "Column DIS outliers = 0.99%\n",
      "Column RAD outliers = 0.00%\n",
      "Column TAX outliers = 0.00%\n",
      "Column PTRATIO outliers = 2.96%\n",
      "Column B outliers = 15.22%\n",
      "Column LSTAT outliers = 1.38%\n",
      "Column PRICE outliers = 7.91%\n"
     ]
    }
   ],
   "source": [
    "    for k, v in df.items():\n",
    "        q1 = v.quantile(0.25)\n",
    "        q3 = v.quantile(0.75)\n",
    "        irq = q3 - q1\n",
    "        v_col = v[(v <= q1 - 1.5 * irq) | (v >= q3 + 1.5 * irq)]\n",
    "        perc = np.shape(v_col)[0] * 100.0 / np.shape(df)[0]\n",
    "        print(\"Column %s outliers = %.2f%%\" % (k, perc))"
   ]
  },
  {
   "cell_type": "code",
   "execution_count": 7,
   "metadata": {
    "execution": {
     "iopub.execute_input": "2020-10-07T20:55:56.500235Z",
     "iopub.status.busy": "2020-10-07T20:55:56.499280Z",
     "iopub.status.idle": "2020-10-07T20:55:56.501806Z",
     "shell.execute_reply": "2020-10-07T20:55:56.502396Z"
    },
    "papermill": {
     "duration": 0.048845,
     "end_time": "2020-10-07T20:55:56.502563",
     "exception": false,
     "start_time": "2020-10-07T20:55:56.453718",
     "status": "completed"
    },
    "tags": []
   },
   "outputs": [
    {
     "name": "stdout",
     "output_type": "stream",
     "text": [
      "(458, 14)\n"
     ]
    }
   ],
   "source": [
    "df = df[~(df['PRICE'] >= 35.0)]\n",
    "print(np.shape(df))"
   ]
  },
  {
   "cell_type": "code",
   "execution_count": 8,
   "metadata": {
    "execution": {
     "iopub.execute_input": "2020-10-07T20:55:56.590835Z",
     "iopub.status.busy": "2020-10-07T20:55:56.586563Z",
     "iopub.status.idle": "2020-10-07T20:55:56.607051Z",
     "shell.execute_reply": "2020-10-07T20:55:56.606239Z"
    },
    "papermill": {
     "duration": 0.068592,
     "end_time": "2020-10-07T20:55:56.607185",
     "exception": false,
     "start_time": "2020-10-07T20:55:56.538593",
     "status": "completed"
    },
    "tags": []
   },
   "outputs": [
    {
     "data": {
      "text/html": [
       "<div>\n",
       "<style scoped>\n",
       "    .dataframe tbody tr th:only-of-type {\n",
       "        vertical-align: middle;\n",
       "    }\n",
       "\n",
       "    .dataframe tbody tr th {\n",
       "        vertical-align: top;\n",
       "    }\n",
       "\n",
       "    .dataframe thead th {\n",
       "        text-align: right;\n",
       "    }\n",
       "</style>\n",
       "<table border=\"1\" class=\"dataframe\">\n",
       "  <thead>\n",
       "    <tr style=\"text-align: right;\">\n",
       "      <th></th>\n",
       "      <th>CRIM</th>\n",
       "      <th>ZN</th>\n",
       "      <th>INDUS</th>\n",
       "      <th>CHAS</th>\n",
       "      <th>NOX</th>\n",
       "      <th>RM</th>\n",
       "      <th>AGE</th>\n",
       "      <th>DIS</th>\n",
       "      <th>RAD</th>\n",
       "      <th>TAX</th>\n",
       "      <th>PTRATIO</th>\n",
       "      <th>B</th>\n",
       "      <th>LSTAT</th>\n",
       "      <th>PRICE</th>\n",
       "    </tr>\n",
       "  </thead>\n",
       "  <tbody>\n",
       "    <tr>\n",
       "      <th>0</th>\n",
       "      <td>0.00632</td>\n",
       "      <td>18.0</td>\n",
       "      <td>2.31</td>\n",
       "      <td>0</td>\n",
       "      <td>0.538</td>\n",
       "      <td>6.575</td>\n",
       "      <td>65.2</td>\n",
       "      <td>4.0900</td>\n",
       "      <td>1</td>\n",
       "      <td>296.0</td>\n",
       "      <td>15.3</td>\n",
       "      <td>396.90</td>\n",
       "      <td>4.98</td>\n",
       "      <td>24.0</td>\n",
       "    </tr>\n",
       "    <tr>\n",
       "      <th>1</th>\n",
       "      <td>0.02731</td>\n",
       "      <td>0.0</td>\n",
       "      <td>7.07</td>\n",
       "      <td>0</td>\n",
       "      <td>0.469</td>\n",
       "      <td>6.421</td>\n",
       "      <td>78.9</td>\n",
       "      <td>4.9671</td>\n",
       "      <td>2</td>\n",
       "      <td>242.0</td>\n",
       "      <td>17.8</td>\n",
       "      <td>396.90</td>\n",
       "      <td>9.14</td>\n",
       "      <td>21.6</td>\n",
       "    </tr>\n",
       "    <tr>\n",
       "      <th>2</th>\n",
       "      <td>0.02729</td>\n",
       "      <td>0.0</td>\n",
       "      <td>7.07</td>\n",
       "      <td>0</td>\n",
       "      <td>0.469</td>\n",
       "      <td>7.185</td>\n",
       "      <td>61.1</td>\n",
       "      <td>4.9671</td>\n",
       "      <td>2</td>\n",
       "      <td>242.0</td>\n",
       "      <td>17.8</td>\n",
       "      <td>392.83</td>\n",
       "      <td>4.03</td>\n",
       "      <td>34.7</td>\n",
       "    </tr>\n",
       "    <tr>\n",
       "      <th>3</th>\n",
       "      <td>0.03237</td>\n",
       "      <td>0.0</td>\n",
       "      <td>2.18</td>\n",
       "      <td>0</td>\n",
       "      <td>0.458</td>\n",
       "      <td>6.998</td>\n",
       "      <td>45.8</td>\n",
       "      <td>6.0622</td>\n",
       "      <td>3</td>\n",
       "      <td>222.0</td>\n",
       "      <td>18.7</td>\n",
       "      <td>394.63</td>\n",
       "      <td>2.94</td>\n",
       "      <td>33.4</td>\n",
       "    </tr>\n",
       "    <tr>\n",
       "      <th>5</th>\n",
       "      <td>0.02985</td>\n",
       "      <td>0.0</td>\n",
       "      <td>2.18</td>\n",
       "      <td>0</td>\n",
       "      <td>0.458</td>\n",
       "      <td>6.430</td>\n",
       "      <td>58.7</td>\n",
       "      <td>6.0622</td>\n",
       "      <td>3</td>\n",
       "      <td>222.0</td>\n",
       "      <td>18.7</td>\n",
       "      <td>394.12</td>\n",
       "      <td>5.21</td>\n",
       "      <td>28.7</td>\n",
       "    </tr>\n",
       "  </tbody>\n",
       "</table>\n",
       "</div>"
      ],
      "text/plain": [
       "      CRIM    ZN  INDUS  CHAS    NOX     RM   AGE     DIS  RAD    TAX  \\\n",
       "0  0.00632  18.0   2.31     0  0.538  6.575  65.2  4.0900    1  296.0   \n",
       "1  0.02731   0.0   7.07     0  0.469  6.421  78.9  4.9671    2  242.0   \n",
       "2  0.02729   0.0   7.07     0  0.469  7.185  61.1  4.9671    2  242.0   \n",
       "3  0.03237   0.0   2.18     0  0.458  6.998  45.8  6.0622    3  222.0   \n",
       "5  0.02985   0.0   2.18     0  0.458  6.430  58.7  6.0622    3  222.0   \n",
       "\n",
       "   PTRATIO       B  LSTAT  PRICE  \n",
       "0     15.3  396.90   4.98   24.0  \n",
       "1     17.8  396.90   9.14   21.6  \n",
       "2     17.8  392.83   4.03   34.7  \n",
       "3     18.7  394.63   2.94   33.4  \n",
       "5     18.7  394.12   5.21   28.7  "
      ]
     },
     "execution_count": 8,
     "metadata": {},
     "output_type": "execute_result"
    }
   ],
   "source": [
    "#Looking at the data with names and target variable\n",
    "df.head()"
   ]
  },
  {
   "cell_type": "code",
   "execution_count": 9,
   "metadata": {
    "execution": {
     "iopub.execute_input": "2020-10-07T20:55:56.688161Z",
     "iopub.status.busy": "2020-10-07T20:55:56.686923Z",
     "iopub.status.idle": "2020-10-07T20:55:56.692129Z",
     "shell.execute_reply": "2020-10-07T20:55:56.691293Z"
    },
    "papermill": {
     "duration": 0.048073,
     "end_time": "2020-10-07T20:55:56.692272",
     "exception": false,
     "start_time": "2020-10-07T20:55:56.644199",
     "status": "completed"
    },
    "tags": []
   },
   "outputs": [
    {
     "name": "stdout",
     "output_type": "stream",
     "text": [
      "(458, 14)\n"
     ]
    }
   ],
   "source": [
    "#Shape of the data\n",
    "print(df.shape)"
   ]
  },
  {
   "cell_type": "code",
   "execution_count": 10,
   "metadata": {
    "execution": {
     "iopub.execute_input": "2020-10-07T20:55:56.778245Z",
     "iopub.status.busy": "2020-10-07T20:55:56.775133Z",
     "iopub.status.idle": "2020-10-07T20:55:56.783287Z",
     "shell.execute_reply": "2020-10-07T20:55:56.782651Z"
    },
    "papermill": {
     "duration": 0.051644,
     "end_time": "2020-10-07T20:55:56.783452",
     "exception": false,
     "start_time": "2020-10-07T20:55:56.731808",
     "status": "completed"
    },
    "tags": []
   },
   "outputs": [
    {
     "data": {
      "text/plain": [
       "CRIM       0\n",
       "ZN         0\n",
       "INDUS      0\n",
       "CHAS       0\n",
       "NOX        0\n",
       "RM         0\n",
       "AGE        0\n",
       "DIS        0\n",
       "RAD        0\n",
       "TAX        0\n",
       "PTRATIO    0\n",
       "B          0\n",
       "LSTAT      0\n",
       "PRICE      0\n",
       "dtype: int64"
      ]
     },
     "execution_count": 10,
     "metadata": {},
     "output_type": "execute_result"
    }
   ],
   "source": [
    "#Checking the null values in the dataset\n",
    "df.isnull().sum()"
   ]
  },
  {
   "cell_type": "markdown",
   "metadata": {
    "papermill": {
     "duration": 0.038629,
     "end_time": "2020-10-07T20:55:56.861275",
     "exception": false,
     "start_time": "2020-10-07T20:55:56.822646",
     "status": "completed"
    },
    "tags": []
   },
   "source": [
    "No null values in the dataset, no missing value treatement needed"
   ]
  },
  {
   "cell_type": "code",
   "execution_count": 11,
   "metadata": {
    "execution": {
     "iopub.execute_input": "2020-10-07T20:55:56.953447Z",
     "iopub.status.busy": "2020-10-07T20:55:56.952628Z",
     "iopub.status.idle": "2020-10-07T20:55:57.021634Z",
     "shell.execute_reply": "2020-10-07T20:55:57.020973Z"
    },
    "papermill": {
     "duration": 0.121217,
     "end_time": "2020-10-07T20:55:57.021775",
     "exception": false,
     "start_time": "2020-10-07T20:55:56.900558",
     "status": "completed"
    },
    "tags": []
   },
   "outputs": [
    {
     "data": {
      "text/html": [
       "<div>\n",
       "<style scoped>\n",
       "    .dataframe tbody tr th:only-of-type {\n",
       "        vertical-align: middle;\n",
       "    }\n",
       "\n",
       "    .dataframe tbody tr th {\n",
       "        vertical-align: top;\n",
       "    }\n",
       "\n",
       "    .dataframe thead th {\n",
       "        text-align: right;\n",
       "    }\n",
       "</style>\n",
       "<table border=\"1\" class=\"dataframe\">\n",
       "  <thead>\n",
       "    <tr style=\"text-align: right;\">\n",
       "      <th></th>\n",
       "      <th>CRIM</th>\n",
       "      <th>ZN</th>\n",
       "      <th>INDUS</th>\n",
       "      <th>CHAS</th>\n",
       "      <th>NOX</th>\n",
       "      <th>RM</th>\n",
       "      <th>AGE</th>\n",
       "      <th>DIS</th>\n",
       "      <th>RAD</th>\n",
       "      <th>TAX</th>\n",
       "      <th>PTRATIO</th>\n",
       "      <th>B</th>\n",
       "      <th>LSTAT</th>\n",
       "      <th>PRICE</th>\n",
       "    </tr>\n",
       "  </thead>\n",
       "  <tbody>\n",
       "    <tr>\n",
       "      <th>count</th>\n",
       "      <td>458.000000</td>\n",
       "      <td>458.000000</td>\n",
       "      <td>458.000000</td>\n",
       "      <td>458.000000</td>\n",
       "      <td>458.000000</td>\n",
       "      <td>458.000000</td>\n",
       "      <td>458.000000</td>\n",
       "      <td>458.000000</td>\n",
       "      <td>458.000000</td>\n",
       "      <td>458.000000</td>\n",
       "      <td>458.000000</td>\n",
       "      <td>458.000000</td>\n",
       "      <td>458.000000</td>\n",
       "      <td>458.000000</td>\n",
       "    </tr>\n",
       "    <tr>\n",
       "      <th>mean</th>\n",
       "      <td>3.880713</td>\n",
       "      <td>10.180131</td>\n",
       "      <td>11.588166</td>\n",
       "      <td>0.058952</td>\n",
       "      <td>0.558875</td>\n",
       "      <td>6.156945</td>\n",
       "      <td>69.170524</td>\n",
       "      <td>3.807797</td>\n",
       "      <td>9.842795</td>\n",
       "      <td>417.893013</td>\n",
       "      <td>18.676201</td>\n",
       "      <td>353.521965</td>\n",
       "      <td>13.490699</td>\n",
       "      <td>20.320087</td>\n",
       "    </tr>\n",
       "    <tr>\n",
       "      <th>std</th>\n",
       "      <td>8.973996</td>\n",
       "      <td>21.950057</td>\n",
       "      <td>6.756057</td>\n",
       "      <td>0.235792</td>\n",
       "      <td>0.117724</td>\n",
       "      <td>0.563489</td>\n",
       "      <td>28.008853</td>\n",
       "      <td>2.125004</td>\n",
       "      <td>8.884462</td>\n",
       "      <td>168.736868</td>\n",
       "      <td>2.027875</td>\n",
       "      <td>95.363794</td>\n",
       "      <td>6.967358</td>\n",
       "      <td>6.185151</td>\n",
       "    </tr>\n",
       "    <tr>\n",
       "      <th>min</th>\n",
       "      <td>0.006320</td>\n",
       "      <td>0.000000</td>\n",
       "      <td>0.740000</td>\n",
       "      <td>0.000000</td>\n",
       "      <td>0.385000</td>\n",
       "      <td>3.561000</td>\n",
       "      <td>2.900000</td>\n",
       "      <td>1.137000</td>\n",
       "      <td>1.000000</td>\n",
       "      <td>187.000000</td>\n",
       "      <td>12.600000</td>\n",
       "      <td>0.320000</td>\n",
       "      <td>1.980000</td>\n",
       "      <td>5.000000</td>\n",
       "    </tr>\n",
       "    <tr>\n",
       "      <th>25%</th>\n",
       "      <td>0.084020</td>\n",
       "      <td>0.000000</td>\n",
       "      <td>5.860000</td>\n",
       "      <td>0.000000</td>\n",
       "      <td>0.453000</td>\n",
       "      <td>5.871250</td>\n",
       "      <td>45.725000</td>\n",
       "      <td>2.100175</td>\n",
       "      <td>4.000000</td>\n",
       "      <td>287.000000</td>\n",
       "      <td>17.600000</td>\n",
       "      <td>373.105000</td>\n",
       "      <td>7.927500</td>\n",
       "      <td>16.200000</td>\n",
       "    </tr>\n",
       "    <tr>\n",
       "      <th>50%</th>\n",
       "      <td>0.256510</td>\n",
       "      <td>0.000000</td>\n",
       "      <td>9.900000</td>\n",
       "      <td>0.000000</td>\n",
       "      <td>0.538000</td>\n",
       "      <td>6.152000</td>\n",
       "      <td>78.400000</td>\n",
       "      <td>3.199200</td>\n",
       "      <td>5.000000</td>\n",
       "      <td>345.000000</td>\n",
       "      <td>19.200000</td>\n",
       "      <td>391.880000</td>\n",
       "      <td>12.370000</td>\n",
       "      <td>20.400000</td>\n",
       "    </tr>\n",
       "    <tr>\n",
       "      <th>75%</th>\n",
       "      <td>4.082653</td>\n",
       "      <td>0.000000</td>\n",
       "      <td>18.100000</td>\n",
       "      <td>0.000000</td>\n",
       "      <td>0.624000</td>\n",
       "      <td>6.481750</td>\n",
       "      <td>94.300000</td>\n",
       "      <td>5.214600</td>\n",
       "      <td>24.000000</td>\n",
       "      <td>666.000000</td>\n",
       "      <td>20.200000</td>\n",
       "      <td>396.397500</td>\n",
       "      <td>17.302500</td>\n",
       "      <td>23.800000</td>\n",
       "    </tr>\n",
       "    <tr>\n",
       "      <th>max</th>\n",
       "      <td>88.976200</td>\n",
       "      <td>100.000000</td>\n",
       "      <td>27.740000</td>\n",
       "      <td>1.000000</td>\n",
       "      <td>0.871000</td>\n",
       "      <td>8.780000</td>\n",
       "      <td>100.000000</td>\n",
       "      <td>12.126500</td>\n",
       "      <td>24.000000</td>\n",
       "      <td>711.000000</td>\n",
       "      <td>22.000000</td>\n",
       "      <td>396.900000</td>\n",
       "      <td>37.970000</td>\n",
       "      <td>34.900000</td>\n",
       "    </tr>\n",
       "  </tbody>\n",
       "</table>\n",
       "</div>"
      ],
      "text/plain": [
       "             CRIM          ZN       INDUS        CHAS         NOX          RM  \\\n",
       "count  458.000000  458.000000  458.000000  458.000000  458.000000  458.000000   \n",
       "mean     3.880713   10.180131   11.588166    0.058952    0.558875    6.156945   \n",
       "std      8.973996   21.950057    6.756057    0.235792    0.117724    0.563489   \n",
       "min      0.006320    0.000000    0.740000    0.000000    0.385000    3.561000   \n",
       "25%      0.084020    0.000000    5.860000    0.000000    0.453000    5.871250   \n",
       "50%      0.256510    0.000000    9.900000    0.000000    0.538000    6.152000   \n",
       "75%      4.082653    0.000000   18.100000    0.000000    0.624000    6.481750   \n",
       "max     88.976200  100.000000   27.740000    1.000000    0.871000    8.780000   \n",
       "\n",
       "              AGE         DIS         RAD         TAX     PTRATIO           B  \\\n",
       "count  458.000000  458.000000  458.000000  458.000000  458.000000  458.000000   \n",
       "mean    69.170524    3.807797    9.842795  417.893013   18.676201  353.521965   \n",
       "std     28.008853    2.125004    8.884462  168.736868    2.027875   95.363794   \n",
       "min      2.900000    1.137000    1.000000  187.000000   12.600000    0.320000   \n",
       "25%     45.725000    2.100175    4.000000  287.000000   17.600000  373.105000   \n",
       "50%     78.400000    3.199200    5.000000  345.000000   19.200000  391.880000   \n",
       "75%     94.300000    5.214600   24.000000  666.000000   20.200000  396.397500   \n",
       "max    100.000000   12.126500   24.000000  711.000000   22.000000  396.900000   \n",
       "\n",
       "            LSTAT       PRICE  \n",
       "count  458.000000  458.000000  \n",
       "mean    13.490699   20.320087  \n",
       "std      6.967358    6.185151  \n",
       "min      1.980000    5.000000  \n",
       "25%      7.927500   16.200000  \n",
       "50%     12.370000   20.400000  \n",
       "75%     17.302500   23.800000  \n",
       "max     37.970000   34.900000  "
      ]
     },
     "execution_count": 11,
     "metadata": {},
     "output_type": "execute_result"
    }
   ],
   "source": [
    "#Checking the statistics of the data\n",
    "df.describe()"
   ]
  },
  {
   "cell_type": "markdown",
   "metadata": {
    "papermill": {
     "duration": 0.038841,
     "end_time": "2020-10-07T20:55:57.100719",
     "exception": false,
     "start_time": "2020-10-07T20:55:57.061878",
     "status": "completed"
    },
    "tags": []
   },
   "source": [
    "This is sometimes very useful, for example if you look at the CRIM the max is 88.97 and 75% of the value is below 3.677083 and mean is 3.613524 so it means the max values is actually an outlier or there are outliers present in the column"
   ]
  },
  {
   "cell_type": "code",
   "execution_count": 12,
   "metadata": {
    "execution": {
     "iopub.execute_input": "2020-10-07T20:55:57.195790Z",
     "iopub.status.busy": "2020-10-07T20:55:57.194932Z",
     "iopub.status.idle": "2020-10-07T20:55:57.199253Z",
     "shell.execute_reply": "2020-10-07T20:55:57.198271Z"
    },
    "papermill": {
     "duration": 0.059044,
     "end_time": "2020-10-07T20:55:57.199444",
     "exception": false,
     "start_time": "2020-10-07T20:55:57.140400",
     "status": "completed"
    },
    "tags": []
   },
   "outputs": [
    {
     "name": "stdout",
     "output_type": "stream",
     "text": [
      "<class 'pandas.core.frame.DataFrame'>\n",
      "Int64Index: 458 entries, 0 to 505\n",
      "Data columns (total 14 columns):\n",
      " #   Column   Non-Null Count  Dtype  \n",
      "---  ------   --------------  -----  \n",
      " 0   CRIM     458 non-null    float64\n",
      " 1   ZN       458 non-null    float64\n",
      " 2   INDUS    458 non-null    float64\n",
      " 3   CHAS     458 non-null    int64  \n",
      " 4   NOX      458 non-null    float64\n",
      " 5   RM       458 non-null    float64\n",
      " 6   AGE      458 non-null    float64\n",
      " 7   DIS      458 non-null    float64\n",
      " 8   RAD      458 non-null    int64  \n",
      " 9   TAX      458 non-null    float64\n",
      " 10  PTRATIO  458 non-null    float64\n",
      " 11  B        458 non-null    float64\n",
      " 12  LSTAT    458 non-null    float64\n",
      " 13  PRICE    458 non-null    float64\n",
      "dtypes: float64(12), int64(2)\n",
      "memory usage: 53.7 KB\n"
     ]
    }
   ],
   "source": [
    "df.info()"
   ]
  },
  {
   "cell_type": "markdown",
   "metadata": {
    "papermill": {
     "duration": 0.039786,
     "end_time": "2020-10-07T20:55:57.281403",
     "exception": false,
     "start_time": "2020-10-07T20:55:57.241617",
     "status": "completed"
    },
    "tags": []
   },
   "source": [
    "<a id = 'visual'></a>\n",
    "# Visualisation"
   ]
  },
  {
   "cell_type": "code",
   "execution_count": 13,
   "metadata": {
    "execution": {
     "iopub.execute_input": "2020-10-07T20:55:57.367573Z",
     "iopub.status.busy": "2020-10-07T20:55:57.366737Z",
     "iopub.status.idle": "2020-10-07T20:55:57.863164Z",
     "shell.execute_reply": "2020-10-07T20:55:57.864194Z"
    },
    "papermill": {
     "duration": 0.543321,
     "end_time": "2020-10-07T20:55:57.864519",
     "exception": false,
     "start_time": "2020-10-07T20:55:57.321198",
     "status": "completed"
    },
    "tags": []
   },
   "outputs": [
    {
     "data": {
      "text/plain": [
       "<AxesSubplot: xlabel='PRICE', ylabel='Count'>"
      ]
     },
     "execution_count": 13,
     "metadata": {},
     "output_type": "execute_result"
    },
    {
     "data": {
      "image/png": "[encoded data removed]",
      "text/plain": [
       "<Figure size 432x288 with 1 Axes>"
      ]
     },
     "metadata": {
      "needs_background": "light"
     },
     "output_type": "display_data"
    }
   ],
   "source": [
    "#checking the distribution of the target variable\n",
    "import seaborn as sns\n",
    "sns.histplot(df.PRICE , kde = True)"
   ]
  },
  {
   "cell_type": "markdown",
   "metadata": {
    "papermill": {
     "duration": 0.04572,
     "end_time": "2020-10-07T20:55:57.964996",
     "exception": false,
     "start_time": "2020-10-07T20:55:57.919276",
     "status": "completed"
    },
    "tags": []
   },
   "source": [
    "The distribution seems normal, has not be the data normal we would have perform log transformation or took to square root of the data to make the data normal. Normal distribution is need for the machine learning for better predictiblity of the model"
   ]
  },
  {
   "cell_type": "code",
   "execution_count": 14,
   "metadata": {
    "execution": {
     "iopub.execute_input": "2020-10-07T20:55:58.080129Z",
     "iopub.status.busy": "2020-10-07T20:55:58.078725Z",
     "iopub.status.idle": "2020-10-07T20:55:58.226472Z",
     "shell.execute_reply": "2020-10-07T20:55:58.224803Z"
    },
    "papermill": {
     "duration": 0.21182,
     "end_time": "2020-10-07T20:55:58.226727",
     "exception": false,
     "start_time": "2020-10-07T20:55:58.014907",
     "status": "completed"
    },
    "tags": []
   },
   "outputs": [
    {
     "data": {
      "text/plain": [
       "<AxesSubplot: >"
      ]
     },
     "execution_count": 14,
     "metadata": {},
     "output_type": "execute_result"
    },
    {
     "data": {
      "image/png": "[encoded data removed]",
      "text/plain": [
       "<Figure size 432x288 with 1 Axes>"
      ]
     },
     "metadata": {
      "needs_background": "light"
     },
     "output_type": "display_data"
    }
   ],
   "source": [
    "#Distribution using box plot\n",
    "sns.boxplot(df.PRICE)"
   ]
  },
  {
   "cell_type": "markdown",
   "metadata": {
    "papermill": {
     "duration": 0.048673,
     "end_time": "2020-10-07T20:55:58.330112",
     "exception": false,
     "start_time": "2020-10-07T20:55:58.281439",
     "status": "completed"
    },
    "tags": []
   },
   "source": [
    "<a id = 'corr'></a>\n",
    "### Checking the correlation of the independent feature with the dependent feature\n",
    "\n",
    "Correlation is a statistical technique that can show whether and how strongly pairs of variables are related.An intelligent correlation analysis can lead to a greater understanding of your data"
   ]
  },
  {
   "cell_type": "code",
   "execution_count": 15,
   "metadata": {
    "execution": {
     "iopub.execute_input": "2020-10-07T20:55:58.431699Z",
     "iopub.status.busy": "2020-10-07T20:55:58.430428Z",
     "iopub.status.idle": "2020-10-07T20:55:58.435634Z",
     "shell.execute_reply": "2020-10-07T20:55:58.434824Z"
    },
    "papermill": {
     "duration": 0.061756,
     "end_time": "2020-10-07T20:55:58.435768",
     "exception": false,
     "start_time": "2020-10-07T20:55:58.374012",
     "status": "completed"
    },
    "tags": []
   },
   "outputs": [
    {
     "data": {
      "text/plain": [
       "CRIM      -0.509111\n",
       "ZN         0.432791\n",
       "INDUS     -0.598380\n",
       "CHAS       0.098362\n",
       "NOX       -0.584249\n",
       "RM         0.540151\n",
       "AGE       -0.571890\n",
       "DIS        0.461164\n",
       "RAD       -0.515860\n",
       "TAX       -0.587285\n",
       "PTRATIO   -0.471471\n",
       "B          0.404020\n",
       "LSTAT     -0.780531\n",
       "PRICE      1.000000\n",
       "Name: PRICE, dtype: float64"
      ]
     },
     "execution_count": 15,
     "metadata": {},
     "output_type": "execute_result"
    }
   ],
   "source": [
    "#checking Correlation of the data \n",
    "correlation = df.corr()\n",
    "correlation.loc['PRICE']"
   ]
  },
  {
   "cell_type": "code",
   "execution_count": 16,
   "metadata": {
    "execution": {
     "iopub.execute_input": "2020-10-07T20:55:58.529605Z",
     "iopub.status.busy": "2020-10-07T20:55:58.528638Z",
     "iopub.status.idle": "2020-10-07T20:55:59.710877Z",
     "shell.execute_reply": "2020-10-07T20:55:59.711521Z"
    },
    "papermill": {
     "duration": 1.232381,
     "end_time": "2020-10-07T20:55:59.711688",
     "exception": false,
     "start_time": "2020-10-07T20:55:58.479307",
     "status": "completed"
    },
    "tags": []
   },
   "outputs": [
    {
     "data": {
      "text/plain": [
       "<AxesSubplot: >"
      ]
     },
     "execution_count": 16,
     "metadata": {},
     "output_type": "execute_result"
    },
    {
     "data": {
      "image/png": "[encoded data removed]",
      "text/plain": [
       "<Figure size 1080x864 with 2 Axes>"
      ]
     },
     "metadata": {
      "needs_background": "light"
     },
     "output_type": "display_data"
    }
   ],
   "source": [
    "# plotting the heatmap\n",
    "import matplotlib.pyplot as plt\n",
    "fig,axes = plt.subplots(figsize=(15,12))\n",
    "sns.heatmap(correlation,square = True,annot = True)"
   ]
  },
  {
   "cell_type": "markdown",
   "metadata": {
    "papermill": {
     "duration": 0.063671,
     "end_time": "2020-10-07T20:55:59.843186",
     "exception": false,
     "start_time": "2020-10-07T20:55:59.779515",
     "status": "completed"
    },
    "tags": []
   },
   "source": [
    "By looking at the correlation plot LSAT is negatively correlated with -0.75 and RM is positively correlated to the price and PTRATIO is correlated negatively with -0.51"
   ]
  },
  {
   "cell_type": "code",
   "execution_count": 17,
   "metadata": {
    "execution": {
     "iopub.execute_input": "2020-10-07T20:55:59.973935Z",
     "iopub.status.busy": "2020-10-07T20:55:59.973048Z",
     "iopub.status.idle": "2020-10-07T20:56:00.537078Z",
     "shell.execute_reply": "2020-10-07T20:56:00.536396Z"
    },
    "papermill": {
     "duration": 0.62852,
     "end_time": "2020-10-07T20:56:00.537213",
     "exception": false,
     "start_time": "2020-10-07T20:55:59.908693",
     "status": "completed"
    },
    "tags": []
   },
   "outputs": [
    {
     "data": {
      "image/png": "[encoded data removed]",
      "text/plain": [
       "<Figure size 1440x360 with 3 Axes>"
      ]
     },
     "metadata": {
      "needs_background": "light"
     },
     "output_type": "display_data"
    }
   ],
   "source": [
    "# Checking the scatter plot with the most correlated features\n",
    "plt.figure(figsize = (20,5))\n",
    "features = ['LSTAT','RM','PTRATIO']\n",
    "for i, col in enumerate(features):\n",
    "    plt.subplot(1, len(features) , i+1)\n",
    "    x = df[col]\n",
    "    y = df.PRICE\n",
    "    plt.scatter(x, y, marker='o')\n",
    "    plt.title(\"Variation in House prices\")\n",
    "    plt.xlabel(col)\n",
    "    plt.ylabel('\"House prices in $1000\"')"
   ]
  },
  {
   "cell_type": "markdown",
   "metadata": {
    "papermill": {
     "duration": 0.049163,
     "end_time": "2020-10-07T20:56:00.640630",
     "exception": false,
     "start_time": "2020-10-07T20:56:00.591467",
     "status": "completed"
    },
    "tags": []
   },
   "source": [
    "<a id = 'split'></a>\n",
    "### Splitting the dependent feature and independent feature "
   ]
  },
  {
   "cell_type": "code",
   "execution_count": 18,
   "metadata": {
    "execution": {
     "iopub.execute_input": "2020-10-07T20:56:00.746689Z",
     "iopub.status.busy": "2020-10-07T20:56:00.745862Z",
     "iopub.status.idle": "2020-10-07T20:56:00.749761Z",
     "shell.execute_reply": "2020-10-07T20:56:00.748926Z"
    },
    "papermill": {
     "duration": 0.060237,
     "end_time": "2020-10-07T20:56:00.749904",
     "exception": false,
     "start_time": "2020-10-07T20:56:00.689667",
     "status": "completed"
    },
    "tags": []
   },
   "outputs": [],
   "source": [
    "#X = data[['LSTAT','RM','PTRATIO']]\n",
    "X = df.iloc[:,:-1]\n",
    "y= df.PRICE"
   ]
  },
  {
   "cell_type": "markdown",
   "metadata": {
    "papermill": {
     "duration": 0.049696,
     "end_time": "2020-10-07T20:56:00.848870",
     "exception": false,
     "start_time": "2020-10-07T20:56:00.799174",
     "status": "completed"
    },
    "tags": []
   },
   "source": [
    "<a id = 'valid'></a>\n",
    "### Splitting the data for Model Validation "
   ]
  },
  {
   "cell_type": "code",
   "execution_count": 19,
   "metadata": {
    "execution": {
     "iopub.execute_input": "2020-10-07T20:56:00.955422Z",
     "iopub.status.busy": "2020-10-07T20:56:00.954564Z",
     "iopub.status.idle": "2020-10-07T20:56:01.027363Z",
     "shell.execute_reply": "2020-10-07T20:56:01.026674Z"
    },
    "papermill": {
     "duration": 0.127892,
     "end_time": "2020-10-07T20:56:01.027528",
     "exception": false,
     "start_time": "2020-10-07T20:56:00.899636",
     "status": "completed"
    },
    "tags": []
   },
   "outputs": [],
   "source": [
    "# Splitting the data into train and test for building the model\n",
    "from sklearn.model_selection import train_test_split\n",
    "X_train, X_test, y_train, y_test = train_test_split(X,y, test_size = 0.2, random_state = 4)"
   ]
  },
  {
   "cell_type": "markdown",
   "metadata": {
    "papermill": {
     "duration": 0.04873,
     "end_time": "2020-10-07T20:56:01.127287",
     "exception": false,
     "start_time": "2020-10-07T20:56:01.078557",
     "status": "completed"
    },
    "tags": []
   },
   "source": [
    "<a id = 'build'></a>\n",
    "### Building the Model "
   ]
  },
  {
   "cell_type": "code",
   "execution_count": 20,
   "metadata": {
    "execution": {
     "iopub.execute_input": "2020-10-07T20:56:01.232610Z",
     "iopub.status.busy": "2020-10-07T20:56:01.231721Z",
     "iopub.status.idle": "2020-10-07T20:56:01.351412Z",
     "shell.execute_reply": "2020-10-07T20:56:01.350526Z"
    },
    "papermill": {
     "duration": 0.174952,
     "end_time": "2020-10-07T20:56:01.351555",
     "exception": false,
     "start_time": "2020-10-07T20:56:01.176603",
     "status": "completed"
    },
    "tags": []
   },
   "outputs": [],
   "source": [
    "#Linear Regression \n",
    "from sklearn.linear_model import LinearRegression\n",
    "regressor = LinearRegression()"
   ]
  },
  {
   "cell_type": "code",
   "execution_count": 21,
   "metadata": {
    "execution": {
     "iopub.execute_input": "2020-10-07T20:56:01.531645Z",
     "iopub.status.busy": "2020-10-07T20:56:01.530133Z",
     "iopub.status.idle": "2020-10-07T20:56:01.539001Z",
     "shell.execute_reply": "2020-10-07T20:56:01.538076Z"
    },
    "papermill": {
     "duration": 0.134823,
     "end_time": "2020-10-07T20:56:01.539185",
     "exception": false,
     "start_time": "2020-10-07T20:56:01.404362",
     "status": "completed"
    },
    "tags": []
   },
   "outputs": [
    {
     "data": {
      "text/html": [
       "<style>#sk-container-id-1 {color: black;background-color: white;}#sk-container-id-1 pre{padding: 0;}#sk-container-id-1 div.sk-toggleable {background-color: white;}#sk-container-id-1 label.sk-toggleable__label {cursor: pointer;display: block;width: 100%;margin-bottom: 0;padding: 0.3em;box-sizing: border-box;text-align: center;}#sk-container-id-1 label.sk-toggleable__label-arrow:before {content: \"▸\";float: left;margin-right: 0.25em;color: #696969;}#sk-container-id-1 label.sk-toggleable__label-arrow:hover:before {color: black;}#sk-container-id-1 div.sk-estimator:hover label.sk-toggleable__label-arrow:before {color: black;}#sk-container-id-1 div.sk-toggleable__content {max-height: 0;max-width: 0;overflow: hidden;text-align: left;background-color: #f0f8ff;}#sk-container-id-1 div.sk-toggleable__content pre {margin: 0.2em;color: black;border-radius: 0.25em;background-color: #f0f8ff;}#sk-container-id-1 input.sk-toggleable__control:checked~div.sk-toggleable__content {max-height: 200px;max-width: 100%;overflow: auto;}#sk-container-id-1 input.sk-toggleable__control:checked~label.sk-toggleable__label-arrow:before {content: \"▾\";}#sk-container-id-1 div.sk-estimator input.sk-toggleable__control:checked~label.sk-toggleable__label {background-color: #d4ebff;}#sk-container-id-1 div.sk-label input.sk-toggleable__control:checked~label.sk-toggleable__label {background-color: #d4ebff;}#sk-container-id-1 input.sk-hidden--visually {border: 0;clip: rect(1px 1px 1px 1px);clip: rect(1px, 1px, 1px, 1px);height: 1px;margin: -1px;overflow: hidden;padding: 0;position: absolute;width: 1px;}#sk-container-id-1 div.sk-estimator {font-family: monospace;background-color: #f0f8ff;border: 1px dotted black;border-radius: 0.25em;box-sizing: border-box;margin-bottom: 0.5em;}#sk-container-id-1 div.sk-estimator:hover {background-color: #d4ebff;}#sk-container-id-1 div.sk-parallel-item::after {content: \"\";width: 100%;border-bottom: 1px solid gray;flex-grow: 1;}#sk-container-id-1 div.sk-label:hover label.sk-toggleable__label {background-color: #d4ebff;}#sk-container-id-1 div.sk-serial::before {content: \"\";position: absolute;border-left: 1px solid gray;box-sizing: border-box;top: 0;bottom: 0;left: 50%;z-index: 0;}#sk-container-id-1 div.sk-serial {display: flex;flex-direction: column;align-items: center;background-color: white;padding-right: 0.2em;padding-left: 0.2em;position: relative;}#sk-container-id-1 div.sk-item {position: relative;z-index: 1;}#sk-container-id-1 div.sk-parallel {display: flex;align-items: stretch;justify-content: center;background-color: white;position: relative;}#sk-container-id-1 div.sk-item::before, #sk-container-id-1 div.sk-parallel-item::before {content: \"\";position: absolute;border-left: 1px solid gray;box-sizing: border-box;top: 0;bottom: 0;left: 50%;z-index: -1;}#sk-container-id-1 div.sk-parallel-item {display: flex;flex-direction: column;z-index: 1;position: relative;background-color: white;}#sk-container-id-1 div.sk-parallel-item:first-child::after {align-self: flex-end;width: 50%;}#sk-container-id-1 div.sk-parallel-item:last-child::after {align-self: flex-start;width: 50%;}#sk-container-id-1 div.sk-parallel-item:only-child::after {width: 0;}#sk-container-id-1 div.sk-dashed-wrapped {border: 1px dashed gray;margin: 0 0.4em 0.5em 0.4em;box-sizing: border-box;padding-bottom: 0.4em;background-color: white;}#sk-container-id-1 div.sk-label label {font-family: monospace;font-weight: bold;display: inline-block;line-height: 1.2em;}#sk-container-id-1 div.sk-label-container {text-align: center;}#sk-container-id-1 div.sk-container {/* jupyter's `normalize.less` sets `[hidden] { display: none; }` but bootstrap.min.css set `[hidden] { display: none !important; }` so we also need the `!important` here to be able to override the default hidden behavior on the sphinx rendered scikit-learn.org. See: https://github.com/scikit-learn/scikit-learn/issues/21755 */display: inline-block !important;position: relative;}#sk-container-id-1 div.sk-text-repr-fallback {display: none;}</style><div id=\"sk-container-id-1\" class=\"sk-top-container\"><div class=\"sk-text-repr-fallback\"><pre>LinearRegression()</pre><b>In a Jupyter environment, please rerun this cell to show the HTML representation or trust the notebook. <br />On GitHub, the HTML representation is unable to render, please try loading this page with nbviewer.org.</b></div><div class=\"sk-container\" hidden><div class=\"sk-item\"><div class=\"sk-estimator sk-toggleable\"><input class=\"sk-toggleable__control sk-hidden--visually\" id=\"sk-estimator-id-1\" type=\"checkbox\" checked><label for=\"sk-estimator-id-1\" class=\"sk-toggleable__label sk-toggleable__label-arrow\">LinearRegression</label><div class=\"sk-toggleable__content\"><pre>LinearRegression()</pre></div></div></div></div></div>"
      ],
      "text/plain": [
       "LinearRegression()"
      ]
     },
     "execution_count": 21,
     "metadata": {},
     "output_type": "execute_result"
    }
   ],
   "source": [
    "#Fitting the model\n",
    "regressor.fit(X_train,y_train)"
   ]
  },
  {
   "cell_type": "markdown",
   "metadata": {
    "papermill": {
     "duration": 0.058616,
     "end_time": "2020-10-07T20:56:01.652280",
     "exception": false,
     "start_time": "2020-10-07T20:56:01.593664",
     "status": "completed"
    },
    "tags": []
   },
   "source": [
    "<a id = 'evaluate'></a>\n",
    "### Model Evaluation"
   ]
  },
  {
   "cell_type": "code",
   "execution_count": 22,
   "metadata": {
    "execution": {
     "iopub.execute_input": "2020-10-07T20:56:01.779402Z",
     "iopub.status.busy": "2020-10-07T20:56:01.778398Z",
     "iopub.status.idle": "2020-10-07T20:56:01.782567Z",
     "shell.execute_reply": "2020-10-07T20:56:01.781875Z"
    },
    "papermill": {
     "duration": 0.077452,
     "end_time": "2020-10-07T20:56:01.782725",
     "exception": false,
     "start_time": "2020-10-07T20:56:01.705273",
     "status": "completed"
    },
    "tags": []
   },
   "outputs": [],
   "source": [
    "#Prediction on the test dataset\n",
    "y_pred = regressor.predict(X_test)"
   ]
  },
  {
   "cell_type": "code",
   "execution_count": 23,
   "metadata": {
    "execution": {
     "iopub.execute_input": "2020-10-07T20:56:01.907289Z",
     "iopub.status.busy": "2020-10-07T20:56:01.905853Z",
     "iopub.status.idle": "2020-10-07T20:56:01.911015Z",
     "shell.execute_reply": "2020-10-07T20:56:01.912063Z"
    },
    "papermill": {
     "duration": 0.071746,
     "end_time": "2020-10-07T20:56:01.912362",
     "exception": false,
     "start_time": "2020-10-07T20:56:01.840616",
     "status": "completed"
    },
    "tags": []
   },
   "outputs": [
    {
     "name": "stdout",
     "output_type": "stream",
     "text": [
      "3.061315764852644\n"
     ]
    }
   ],
   "source": [
    "# Predicting RMSE the Test set results\n",
    "from sklearn.metrics import mean_squared_error\n",
    "rmse = (np.sqrt(mean_squared_error(y_test, y_pred)))\n",
    "print(rmse)"
   ]
  },
  {
   "cell_type": "code",
   "execution_count": 24,
   "metadata": {
    "execution": {
     "iopub.execute_input": "2020-10-07T20:56:02.044764Z",
     "iopub.status.busy": "2020-10-07T20:56:02.043712Z",
     "iopub.status.idle": "2020-10-07T20:56:02.048680Z",
     "shell.execute_reply": "2020-10-07T20:56:02.050718Z"
    },
    "papermill": {
     "duration": 0.075393,
     "end_time": "2020-10-07T20:56:02.051676",
     "exception": false,
     "start_time": "2020-10-07T20:56:01.976283",
     "status": "completed"
    },
    "tags": []
   },
   "outputs": [
    {
     "name": "stdout",
     "output_type": "stream",
     "text": [
      "0.7443761652148535\n"
     ]
    }
   ],
   "source": [
    "from sklearn.metrics import r2_score\n",
    "r2 = r2_score(y_test, y_pred)\n",
    "print(r2)"
   ]
  },
  {
   "cell_type": "markdown",
   "metadata": {
    "papermill": {
     "duration": 0.052899,
     "end_time": "2020-10-07T20:56:02.160829",
     "exception": false,
     "start_time": "2020-10-07T20:56:02.107930",
     "status": "completed"
    },
    "tags": []
   },
   "source": [
    "<a id  = 'NN'></a>\n",
    "## Neural Networks"
   ]
  },
  {
   "cell_type": "code",
   "execution_count": 25,
   "metadata": {
    "execution": {
     "iopub.execute_input": "2020-10-07T20:56:02.279947Z",
     "iopub.status.busy": "2020-10-07T20:56:02.279001Z",
     "iopub.status.idle": "2020-10-07T20:56:02.291535Z",
     "shell.execute_reply": "2020-10-07T20:56:02.290743Z"
    },
    "papermill": {
     "duration": 0.077294,
     "end_time": "2020-10-07T20:56:02.291688",
     "exception": false,
     "start_time": "2020-10-07T20:56:02.214394",
     "status": "completed"
    },
    "tags": []
   },
   "outputs": [],
   "source": [
    "#Scaling the dataset\n",
    "from sklearn.preprocessing import StandardScaler\n",
    "sc = StandardScaler()\n",
    "X_train = sc.fit_transform(X_train)\n",
    "X_test = sc.transform(X_test)"
   ]
  },
  {
   "cell_type": "markdown",
   "metadata": {
    "papermill": {
     "duration": 0.053021,
     "end_time": "2020-10-07T20:56:02.400133",
     "exception": false,
     "start_time": "2020-10-07T20:56:02.347112",
     "status": "completed"
    },
    "tags": []
   },
   "source": [
    "* We are using Keras for developing the neural network.\n",
    "* Models in Keras are defined as a sequence of layers\n",
    "* We create a Sequential model and add layers one at a time with activation function\n",
    "* Activation function decides, whether a neuron should be activated or not by calculating weighted sum and further adding bias with it. The purpose of the activation function is to introduce non-linearity into the output of a neuron.The activation we are using is relu\n",
    "* As this is a regression problem, the output layer has no activation function\n",
    "* Elements of neural network has input layer, hidden layer and output layer\n",
    "* input layer:- This layer accepts input features. It provides information from the outside world to the network, no computation is performed at this layer, nodes here just pass on the information(features) to the hidden layer.\n",
    "* Hidden layer:-  Nodes of this layer are not exposed to the outer world, they are the part of the abstraction provided by any neural network. Hidden layer performs all sort of computation on the features entered through the input layer and transfer the result to the output layer.\n",
    "* Output layer:- This layer bring up the information learned by the network to the outer world.\n",
    "* Model Compilation:- The compilation is the final step in creating a model. Once the compilation is done, we can move on to training phase.\n",
    "* Optimizer : - The optimizer we are using is adam. Adam is an optimization algorithm that can be used instead of the classical stochastic gradient descent procedure to update network weights iterative based in training data.\n",
    "* Loss - mean square error"
   ]
  },
  {
   "cell_type": "code",
   "execution_count": 26,
   "metadata": {
    "execution": {
     "iopub.execute_input": "2020-10-07T20:56:02.521142Z",
     "iopub.status.busy": "2020-10-07T20:56:02.520202Z",
     "iopub.status.idle": "2020-10-07T20:56:02.813516Z",
     "shell.execute_reply": "2020-10-07T20:56:02.812803Z"
    },
    "papermill": {
     "duration": 0.36162,
     "end_time": "2020-10-07T20:56:02.813669",
     "exception": false,
     "start_time": "2020-10-07T20:56:02.452049",
     "status": "completed"
    },
    "tags": []
   },
   "outputs": [
    {
     "name": "stderr",
     "output_type": "stream",
     "text": [
      "c:\\Users\\User\\AppData\\Local\\Programs\\Python\\Python310\\lib\\site-packages\\requests\\__init__.py:102: RequestsDependencyWarning: urllib3 (2.0.7) or chardet (5.2.0)/charset_normalizer (3.3.0) doesn't match a supported version!\n",
      "  warnings.warn(\"urllib3 ({}) or chardet ({})/charset_normalizer ({}) doesn't match a supported \"\n"
     ]
    }
   ],
   "source": [
    "#Creating the neural network model\n",
    "import keras\n",
    "from keras.layers import Dense, Activation,Dropout\n",
    "from keras.models import Sequential\n",
    "\n",
    "model = Sequential()\n",
    "\n",
    "model.add(Dense(128,activation  = 'relu',input_dim =13))\n",
    "model.add(Dense(64,activation  = 'relu'))\n",
    "model.add(Dense(32,activation  = 'relu'))\n",
    "model.add(Dense(16,activation  = 'relu'))\n",
    "model.add(Dense(1))\n",
    "model.compile(optimizer = 'adam',loss = 'mean_squared_error')"
   ]
  },
  {
   "cell_type": "code",
   "execution_count": 27,
   "metadata": {
    "execution": {
     "iopub.execute_input": "2020-10-07T20:56:02.934653Z",
     "iopub.status.busy": "2020-10-07T20:56:02.933663Z",
     "iopub.status.idle": "2020-10-07T20:56:07.137189Z",
     "shell.execute_reply": "2020-10-07T20:56:07.137910Z"
    },
    "papermill": {
     "duration": 4.268213,
     "end_time": "2020-10-07T20:56:07.138097",
     "exception": false,
     "start_time": "2020-10-07T20:56:02.869884",
     "status": "completed"
    },
    "tags": []
   },
   "outputs": [
    {
     "name": "stdout",
     "output_type": "stream",
     "text": [
      "Epoch 1/100\n",
      "12/12 [==============================] - 18s 10ms/step - loss: 412.6211\n",
      "Epoch 2/100\n",
      "12/12 [==============================] - 0s 11ms/step - loss: 312.7315\n",
      "Epoch 3/100\n",
      "12/12 [==============================] - 0s 12ms/step - loss: 156.4844\n",
      "Epoch 4/100\n",
      "12/12 [==============================] - 0s 12ms/step - loss: 54.8570\n",
      "Epoch 5/100\n",
      "12/12 [==============================] - 0s 12ms/step - loss: 35.1074\n",
      "Epoch 6/100\n",
      "12/12 [==============================] - 0s 8ms/step - loss: 21.3246\n",
      "Epoch 7/100\n",
      "12/12 [==============================] - 0s 10ms/step - loss: 15.8459\n",
      "Epoch 8/100\n",
      "12/12 [==============================] - 0s 10ms/step - loss: 13.4216\n",
      "Epoch 9/100\n",
      "12/12 [==============================] - 0s 10ms/step - loss: 12.1204\n",
      "Epoch 10/100\n",
      "12/12 [==============================] - 0s 11ms/step - loss: 10.9636\n",
      "Epoch 11/100\n",
      "12/12 [==============================] - 0s 9ms/step - loss: 10.4899\n",
      "Epoch 12/100\n",
      "12/12 [==============================] - 0s 12ms/step - loss: 9.9866\n",
      "Epoch 13/100\n",
      "12/12 [==============================] - 0s 10ms/step - loss: 9.2442\n",
      "Epoch 14/100\n",
      "12/12 [==============================] - 0s 11ms/step - loss: 8.7939\n",
      "Epoch 15/100\n",
      "12/12 [==============================] - 0s 14ms/step - loss: 8.2979\n",
      "Epoch 16/100\n",
      "12/12 [==============================] - 0s 11ms/step - loss: 8.2443\n",
      "Epoch 17/100\n",
      "12/12 [==============================] - 0s 10ms/step - loss: 7.7749\n",
      "Epoch 18/100\n",
      "12/12 [==============================] - 0s 11ms/step - loss: 7.5402\n",
      "Epoch 19/100\n",
      "12/12 [==============================] - 0s 15ms/step - loss: 7.3028\n",
      "Epoch 20/100\n",
      "12/12 [==============================] - 0s 11ms/step - loss: 7.1131\n",
      "Epoch 21/100\n",
      "12/12 [==============================] - 0s 10ms/step - loss: 6.8348\n",
      "Epoch 22/100\n",
      "12/12 [==============================] - 0s 10ms/step - loss: 6.6889\n",
      "Epoch 23/100\n",
      "12/12 [==============================] - 0s 12ms/step - loss: 6.5263\n",
      "Epoch 24/100\n",
      "12/12 [==============================] - 0s 11ms/step - loss: 6.3731\n",
      "Epoch 25/100\n",
      "12/12 [==============================] - 0s 9ms/step - loss: 6.1943\n",
      "Epoch 26/100\n",
      "12/12 [==============================] - 0s 12ms/step - loss: 6.2161\n",
      "Epoch 27/100\n",
      "12/12 [==============================] - 0s 11ms/step - loss: 5.9808\n",
      "Epoch 28/100\n",
      "12/12 [==============================] - 0s 10ms/step - loss: 5.7760\n",
      "Epoch 29/100\n",
      "12/12 [==============================] - 0s 11ms/step - loss: 5.7175\n",
      "Epoch 30/100\n",
      "12/12 [==============================] - 0s 14ms/step - loss: 5.5623\n",
      "Epoch 31/100\n",
      "12/12 [==============================] - 0s 8ms/step - loss: 5.4445\n",
      "Epoch 32/100\n",
      "12/12 [==============================] - 0s 13ms/step - loss: 5.4323\n",
      "Epoch 33/100\n",
      "12/12 [==============================] - 0s 12ms/step - loss: 5.3430\n",
      "Epoch 34/100\n",
      "12/12 [==============================] - 0s 12ms/step - loss: 5.4136\n",
      "Epoch 35/100\n",
      "12/12 [==============================] - 0s 9ms/step - loss: 5.2160\n",
      "Epoch 36/100\n",
      "12/12 [==============================] - 0s 13ms/step - loss: 5.0014\n",
      "Epoch 37/100\n",
      "12/12 [==============================] - 0s 16ms/step - loss: 4.8139\n",
      "Epoch 38/100\n",
      "12/12 [==============================] - 0s 15ms/step - loss: 4.8399\n",
      "Epoch 39/100\n",
      "12/12 [==============================] - 0s 10ms/step - loss: 4.7150\n",
      "Epoch 40/100\n",
      "12/12 [==============================] - 0s 13ms/step - loss: 4.5891\n",
      "Epoch 41/100\n",
      "12/12 [==============================] - 0s 13ms/step - loss: 4.6195\n",
      "Epoch 42/100\n",
      "12/12 [==============================] - 0s 10ms/step - loss: 4.4550\n",
      "Epoch 43/100\n",
      "12/12 [==============================] - 0s 12ms/step - loss: 4.6166\n",
      "Epoch 44/100\n",
      "12/12 [==============================] - 0s 11ms/step - loss: 4.4862\n",
      "Epoch 45/100\n",
      "12/12 [==============================] - 0s 14ms/step - loss: 4.6550\n",
      "Epoch 46/100\n",
      "12/12 [==============================] - 0s 10ms/step - loss: 4.3847\n",
      "Epoch 47/100\n",
      "12/12 [==============================] - 0s 13ms/step - loss: 4.4830\n",
      "Epoch 48/100\n",
      "12/12 [==============================] - 0s 9ms/step - loss: 3.9511\n",
      "Epoch 49/100\n",
      "12/12 [==============================] - 0s 8ms/step - loss: 3.9733\n",
      "Epoch 50/100\n",
      "12/12 [==============================] - 0s 12ms/step - loss: 4.0130\n",
      "Epoch 51/100\n",
      "12/12 [==============================] - 0s 11ms/step - loss: 3.9774\n",
      "Epoch 52/100\n",
      "12/12 [==============================] - 0s 13ms/step - loss: 3.8636\n",
      "Epoch 53/100\n",
      "12/12 [==============================] - 0s 16ms/step - loss: 3.9469\n",
      "Epoch 54/100\n",
      "12/12 [==============================] - 0s 8ms/step - loss: 3.7270\n",
      "Epoch 55/100\n",
      "12/12 [==============================] - 0s 13ms/step - loss: 3.7180\n",
      "Epoch 56/100\n",
      "12/12 [==============================] - 0s 11ms/step - loss: 3.6445\n",
      "Epoch 57/100\n",
      "12/12 [==============================] - 0s 11ms/step - loss: 3.5065\n",
      "Epoch 58/100\n",
      "12/12 [==============================] - 0s 13ms/step - loss: 3.4820\n",
      "Epoch 59/100\n",
      "12/12 [==============================] - 0s 10ms/step - loss: 3.8048\n",
      "Epoch 60/100\n",
      "12/12 [==============================] - 0s 11ms/step - loss: 3.6026\n",
      "Epoch 61/100\n",
      "12/12 [==============================] - 0s 13ms/step - loss: 3.5063\n",
      "Epoch 62/100\n",
      "12/12 [==============================] - 0s 8ms/step - loss: 3.3067\n",
      "Epoch 63/100\n",
      "12/12 [==============================] - 0s 11ms/step - loss: 3.4011\n",
      "Epoch 64/100\n",
      "12/12 [==============================] - 0s 15ms/step - loss: 3.4256\n",
      "Epoch 65/100\n",
      "12/12 [==============================] - 0s 6ms/step - loss: 3.4717\n",
      "Epoch 66/100\n",
      "12/12 [==============================] - 0s 11ms/step - loss: 3.1783\n",
      "Epoch 67/100\n",
      "12/12 [==============================] - 0s 14ms/step - loss: 3.2357\n",
      "Epoch 68/100\n",
      "12/12 [==============================] - 0s 12ms/step - loss: 3.2395\n",
      "Epoch 69/100\n",
      "12/12 [==============================] - 0s 12ms/step - loss: 3.3036\n",
      "Epoch 70/100\n",
      "12/12 [==============================] - 0s 11ms/step - loss: 3.1194\n",
      "Epoch 71/100\n",
      "12/12 [==============================] - 0s 10ms/step - loss: 2.9741\n",
      "Epoch 72/100\n",
      "12/12 [==============================] - 0s 14ms/step - loss: 3.0587\n",
      "Epoch 73/100\n",
      "12/12 [==============================] - 0s 13ms/step - loss: 2.9058\n",
      "Epoch 74/100\n",
      "12/12 [==============================] - 0s 10ms/step - loss: 3.2283\n",
      "Epoch 75/100\n",
      "12/12 [==============================] - 0s 12ms/step - loss: 3.0853\n",
      "Epoch 76/100\n",
      "12/12 [==============================] - 0s 16ms/step - loss: 2.8662\n",
      "Epoch 77/100\n",
      "12/12 [==============================] - 0s 13ms/step - loss: 2.8543\n",
      "Epoch 78/100\n",
      "12/12 [==============================] - 0s 14ms/step - loss: 2.8109\n",
      "Epoch 79/100\n",
      "12/12 [==============================] - 0s 20ms/step - loss: 2.8401\n",
      "Epoch 80/100\n",
      "12/12 [==============================] - 0s 12ms/step - loss: 2.7569\n",
      "Epoch 81/100\n",
      "12/12 [==============================] - 0s 13ms/step - loss: 2.8312\n",
      "Epoch 82/100\n",
      "12/12 [==============================] - 0s 11ms/step - loss: 2.7725\n",
      "Epoch 83/100\n",
      "12/12 [==============================] - 0s 14ms/step - loss: 2.9992\n",
      "Epoch 84/100\n",
      "12/12 [==============================] - 0s 12ms/step - loss: 2.7912\n",
      "Epoch 85/100\n",
      "12/12 [==============================] - 0s 11ms/step - loss: 3.2369\n",
      "Epoch 86/100\n",
      "12/12 [==============================] - 0s 11ms/step - loss: 3.0620\n",
      "Epoch 87/100\n",
      "12/12 [==============================] - 0s 11ms/step - loss: 2.6366\n",
      "Epoch 88/100\n",
      "12/12 [==============================] - 0s 12ms/step - loss: 2.6158\n",
      "Epoch 89/100\n",
      "12/12 [==============================] - 0s 13ms/step - loss: 2.6847\n",
      "Epoch 90/100\n",
      "12/12 [==============================] - 0s 7ms/step - loss: 2.6503\n",
      "Epoch 91/100\n",
      "12/12 [==============================] - 0s 13ms/step - loss: 2.5435\n",
      "Epoch 92/100\n",
      "12/12 [==============================] - 0s 10ms/step - loss: 2.5121\n",
      "Epoch 93/100\n",
      "12/12 [==============================] - 0s 11ms/step - loss: 2.5292\n",
      "Epoch 94/100\n",
      "12/12 [==============================] - 0s 16ms/step - loss: 2.5253\n",
      "Epoch 95/100\n",
      "12/12 [==============================] - 0s 15ms/step - loss: 2.5350\n",
      "Epoch 96/100\n",
      "12/12 [==============================] - 0s 10ms/step - loss: 2.4706\n",
      "Epoch 97/100\n",
      "12/12 [==============================] - 0s 13ms/step - loss: 2.3241\n",
      "Epoch 98/100\n",
      "12/12 [==============================] - 0s 16ms/step - loss: 2.2539\n",
      "Epoch 99/100\n",
      "12/12 [==============================] - 0s 7ms/step - loss: 2.2332\n",
      "Epoch 100/100\n",
      "12/12 [==============================] - 0s 11ms/step - loss: 2.2385\n"
     ]
    },
    {
     "data": {
      "text/plain": [
       "<keras.src.callbacks.History at 0x284a1fb5d20>"
      ]
     },
     "execution_count": 27,
     "metadata": {},
     "output_type": "execute_result"
    }
   ],
   "source": [
    "model.fit(X_train, y_train, epochs = 100)"
   ]
  },
  {
   "cell_type": "markdown",
   "metadata": {
    "papermill": {
     "duration": 0.144695,
     "end_time": "2020-10-07T20:56:07.429767",
     "exception": false,
     "start_time": "2020-10-07T20:56:07.285072",
     "status": "completed"
    },
    "tags": []
   },
   "source": [
    "<a id = 'eval'></a>\n",
    "### Evaluation of the model"
   ]
  },
  {
   "cell_type": "code",
   "execution_count": 28,
   "metadata": {
    "execution": {
     "iopub.execute_input": "2020-10-07T20:56:07.725859Z",
     "iopub.status.busy": "2020-10-07T20:56:07.724391Z",
     "iopub.status.idle": "2020-10-07T20:56:07.944661Z",
     "shell.execute_reply": "2020-10-07T20:56:07.945236Z"
    },
    "papermill": {
     "duration": 0.370667,
     "end_time": "2020-10-07T20:56:07.945463",
     "exception": false,
     "start_time": "2020-10-07T20:56:07.574796",
     "status": "completed"
    },
    "tags": []
   },
   "outputs": [
    {
     "name": "stdout",
     "output_type": "stream",
     "text": [
      "3/3 [==============================] - 1s 9ms/step\n"
     ]
    }
   ],
   "source": [
    "y_pred = model.predict(X_test)"
   ]
  },
  {
   "cell_type": "code",
   "execution_count": 29,
   "metadata": {
    "execution": {
     "iopub.execute_input": "2020-10-07T20:56:08.252035Z",
     "iopub.status.busy": "2020-10-07T20:56:08.251041Z",
     "iopub.status.idle": "2020-10-07T20:56:08.255851Z",
     "shell.execute_reply": "2020-10-07T20:56:08.255145Z"
    },
    "papermill": {
     "duration": 0.159132,
     "end_time": "2020-10-07T20:56:08.255991",
     "exception": false,
     "start_time": "2020-10-07T20:56:08.096859",
     "status": "completed"
    },
    "tags": []
   },
   "outputs": [
    {
     "name": "stdout",
     "output_type": "stream",
     "text": [
      "0.8325509861124551\n"
     ]
    }
   ],
   "source": [
    "from sklearn.metrics import r2_score\n",
    "r2 = r2_score(y_test, y_pred)\n",
    "print(r2)"
   ]
  },
  {
   "cell_type": "code",
   "execution_count": 30,
   "metadata": {
    "execution": {
     "iopub.execute_input": "2020-10-07T20:56:08.557357Z",
     "iopub.status.busy": "2020-10-07T20:56:08.556409Z",
     "iopub.status.idle": "2020-10-07T20:56:08.560011Z",
     "shell.execute_reply": "2020-10-07T20:56:08.560689Z"
    },
    "papermill": {
     "duration": 0.156747,
     "end_time": "2020-10-07T20:56:08.560855",
     "exception": false,
     "start_time": "2020-10-07T20:56:08.404108",
     "status": "completed"
    },
    "tags": []
   },
   "outputs": [
    {
     "name": "stdout",
     "output_type": "stream",
     "text": [
      "2.477700179449272\n"
     ]
    }
   ],
   "source": [
    "# Predicting RMSE the Test set results\n",
    "from sklearn.metrics import mean_squared_error\n",
    "rmse = (np.sqrt(mean_squared_error(y_test, y_pred)))\n",
    "print(rmse)"
   ]
  }
 ],
 "metadata": {
  "kernelspec": {
   "display_name": "Python 3",
   "language": "python",
   "name": "python3"
  },
  "language_info": {
   "codemirror_mode": {
    "name": "ipython",
    "version": 3
   },
   "file_extension": ".py",
   "mimetype": "text/x-python",
   "name": "python",
   "nbconvert_exporter": "python",
   "pygments_lexer": "ipython3",
   "version": "3.10.4"
  },
  "papermill": {
   "duration": 28.602522,
   "end_time": "2020-10-07T20:56:09.403032",
   "environment_variables": {},
   "exception": null,
   "input_path": "__notebook__.ipynb",
   "output_path": "__notebook__.ipynb",
   "parameters": {},
   "start_time": "2020-10-07T20:55:40.800510",
   "version": "2.1.0"
  }
 },
 "nbformat": 4,
 "nbformat_minor": 4
}
