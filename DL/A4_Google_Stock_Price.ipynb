{
 "cells": [
  {
   "cell_type": "code",
   "execution_count": 1,
   "id": "8fc288ed",
   "metadata": {},
   "outputs": [],
   "source": [
    "import pandas as pd\n",
    "import matplotlib.pyplot as plt\n",
    "import numpy as np"
   ]
  },
  {
   "cell_type": "markdown",
   "id": "7a8b11c3",
   "metadata": {},
   "source": [
    "### Loading the dataset"
   ]
  },
  {
   "cell_type": "code",
   "execution_count": 2,
   "id": "23a46ab1",
   "metadata": {},
   "outputs": [
    {
     "name": "stdout",
     "output_type": "stream",
     "text": [
      "<class 'pandas.core.frame.DataFrame'>\n",
      "RangeIndex: 1258 entries, 0 to 1257\n",
      "Data columns (total 6 columns):\n",
      " #   Column  Non-Null Count  Dtype  \n",
      "---  ------  --------------  -----  \n",
      " 0   Date    1258 non-null   object \n",
      " 1   Open    1258 non-null   float64\n",
      " 2   High    1258 non-null   float64\n",
      " 3   Low     1258 non-null   float64\n",
      " 4   Close   1258 non-null   object \n",
      " 5   Volume  1258 non-null   object \n",
      "dtypes: float64(3), object(3)\n",
      "memory usage: 59.1+ KB\n"
     ]
    }
   ],
   "source": [
    "train_df = pd.read_csv('Google_Stock_Price_Train.csv')\n",
    "train_df.info()"
   ]
  },
  {
   "cell_type": "code",
   "execution_count": 3,
   "id": "25f5fba2",
   "metadata": {},
   "outputs": [
    {
     "name": "stdout",
     "output_type": "stream",
     "text": [
      "<class 'pandas.core.frame.DataFrame'>\n",
      "RangeIndex: 20 entries, 0 to 19\n",
      "Data columns (total 6 columns):\n",
      " #   Column  Non-Null Count  Dtype  \n",
      "---  ------  --------------  -----  \n",
      " 0   Date    20 non-null     object \n",
      " 1   Open    20 non-null     float64\n",
      " 2   High    20 non-null     float64\n",
      " 3   Low     20 non-null     float64\n",
      " 4   Close   20 non-null     float64\n",
      " 5   Volume  20 non-null     object \n",
      "dtypes: float64(4), object(2)\n",
      "memory usage: 1.1+ KB\n"
     ]
    }
   ],
   "source": [
    "test_df = pd.read_csv('Google_Stock_Price_Test.csv')\n",
    "test_df.info()"
   ]
  },
  {
   "cell_type": "markdown",
   "id": "0099e4a3",
   "metadata": {},
   "source": [
    "#### Choosing column 'open' for predicition"
   ]
  },
  {
   "cell_type": "code",
   "execution_count": 4,
   "id": "919e13c0",
   "metadata": {},
   "outputs": [
    {
     "data": {
      "text/plain": [
       "(1258, 1)"
      ]
     },
     "execution_count": 4,
     "metadata": {},
     "output_type": "execute_result"
    }
   ],
   "source": [
    "train = train_df.loc[:,[\"Open\"]].values\n",
    "train.shape"
   ]
  },
  {
   "cell_type": "markdown",
   "id": "3f92995d",
   "metadata": {},
   "source": [
    "### Feature Scaling"
   ]
  },
  {
   "cell_type": "code",
   "execution_count": 5,
   "id": "aa770ef9",
   "metadata": {},
   "outputs": [],
   "source": [
    "from sklearn.preprocessing import MinMaxScaler\n",
    "scaler = MinMaxScaler()"
   ]
  },
  {
   "cell_type": "code",
   "execution_count": 6,
   "id": "9e86778f",
   "metadata": {},
   "outputs": [],
   "source": [
    "train_scaled = scaler.fit_transform(train)"
   ]
  },
  {
   "cell_type": "code",
   "execution_count": 7,
   "id": "815c90eb",
   "metadata": {},
   "outputs": [
    {
     "data": {
      "image/png": "[encoded data removed]",
      "text/plain": [
       "<Figure size 432x288 with 1 Axes>"
      ]
     },
     "metadata": {
      "needs_background": "light"
     },
     "output_type": "display_data"
    }
   ],
   "source": [
    "plt.plot(train_scaled)\n",
    "plt.ylabel(\"Standardized Values\")\n",
    "plt.xlabel(\"Time->\")\n",
    "plt.show()"
   ]
  },
  {
   "cell_type": "markdown",
   "id": "afd48559",
   "metadata": {},
   "source": [
    "### Create data structure to train model  \n",
    "Taking reference of past 60 days to predict future stock price  \n",
    "x_train will have data of 60 days prior to current date and y_train will have price on current date"
   ]
  },
  {
   "cell_type": "code",
   "execution_count": 8,
   "id": "c2e7aaea",
   "metadata": {},
   "outputs": [],
   "source": [
    "x_train = []\n",
    "y_train = []\n",
    "time = 60\n",
    "for i in range(60,train_scaled.shape[0]):\n",
    "    x_train.append(train_scaled[i-60:i,0])\n",
    "    y_train.append(train_scaled[i,0])\n",
    "x_train = np.array(x_train)\n",
    "y_train = np.array(y_train)"
   ]
  },
  {
   "cell_type": "code",
   "execution_count": 9,
   "id": "d3d50977",
   "metadata": {},
   "outputs": [
    {
     "data": {
      "text/plain": [
       "((1198, 60), (1198,))"
      ]
     },
     "execution_count": 9,
     "metadata": {},
     "output_type": "execute_result"
    }
   ],
   "source": [
    "x_train.shape,y_train.shape"
   ]
  },
  {
   "cell_type": "code",
   "execution_count": 10,
   "id": "49806d76",
   "metadata": {},
   "outputs": [
    {
     "data": {
      "text/plain": [
       "(1198, 60, 1)"
      ]
     },
     "execution_count": 10,
     "metadata": {},
     "output_type": "execute_result"
    }
   ],
   "source": [
    "x_train = np.reshape(x_train,newshape=(x_train.shape[0],x_train.shape[1],1))\n",
    "x_train.shape"
   ]
  },
  {
   "cell_type": "markdown",
   "id": "2db3dac7",
   "metadata": {},
   "source": [
    "### Build model"
   ]
  },
  {
   "cell_type": "code",
   "execution_count": 11,
   "id": "302ed403",
   "metadata": {},
   "outputs": [
    {
     "name": "stderr",
     "output_type": "stream",
     "text": [
      "c:\\Users\\User\\AppData\\Local\\Programs\\Python\\Python310\\lib\\site-packages\\requests\\__init__.py:102: RequestsDependencyWarning: urllib3 (2.0.7) or chardet (5.2.0)/charset_normalizer (3.3.0) doesn't match a supported version!\n",
      "  warnings.warn(\"urllib3 ({}) or chardet ({})/charset_normalizer ({}) doesn't match a supported \"\n"
     ]
    }
   ],
   "source": [
    "from keras.models import Sequential\n",
    "from keras.layers import Dense, SimpleRNN,Dropout"
   ]
  },
  {
   "cell_type": "code",
   "execution_count": 12,
   "id": "860d847d",
   "metadata": {},
   "outputs": [
    {
     "name": "stdout",
     "output_type": "stream",
     "text": [
      "Model: \"sequential\"\n",
      "_________________________________________________________________\n",
      " Layer (type)                Output Shape              Param #   \n",
      "=================================================================\n",
      " simple_rnn (SimpleRNN)      (None, 60, 50)            2600      \n",
      "                                                                 \n",
      " dropout (Dropout)           (None, 60, 50)            0         \n",
      "                                                                 \n",
      " simple_rnn_1 (SimpleRNN)    (None, 60, 50)            5050      \n",
      "                                                                 \n",
      " dropout_1 (Dropout)         (None, 60, 50)            0         \n",
      "                                                                 \n",
      " simple_rnn_2 (SimpleRNN)    (None, 60, 50)            5050      \n",
      "                                                                 \n",
      " dropout_2 (Dropout)         (None, 60, 50)            0         \n",
      "                                                                 \n",
      " simple_rnn_3 (SimpleRNN)    (None, 50)                5050      \n",
      "                                                                 \n",
      " dropout_3 (Dropout)         (None, 50)                0         \n",
      "                                                                 \n",
      " dense (Dense)               (None, 1)                 51        \n",
      "                                                                 \n",
      "=================================================================\n",
      "Total params: 17801 (69.54 KB)\n",
      "Trainable params: 17801 (69.54 KB)\n",
      "Non-trainable params: 0 (0.00 Byte)\n",
      "_________________________________________________________________\n"
     ]
    }
   ],
   "source": [
    "model = Sequential()\n",
    "\n",
    "model.add(SimpleRNN(units=50,activation = \"tanh\", return_sequences = True, input_shape = (x_train.shape[1], 1)))\n",
    "model.add(Dropout(0.2))\n",
    "\n",
    "model.add(SimpleRNN(units=50,activation = \"tanh\", return_sequences = True))\n",
    "model.add(Dropout(0.2))\n",
    "\n",
    "model.add(SimpleRNN(units=50,activation = \"tanh\", return_sequences = True))\n",
    "model.add(Dropout(0.2))\n",
    "\n",
    "model.add(SimpleRNN(units=50))\n",
    "model.add(Dropout(0.2))\n",
    "\n",
    "model.add(Dense(units=1))\n",
    "\n",
    "model.compile(optimizer='adam',loss='mse')\n",
    "model.summary()"
   ]
  },
  {
   "cell_type": "code",
   "execution_count": 13,
   "id": "d807b7de",
   "metadata": {},
   "outputs": [
    {
     "name": "stdout",
     "output_type": "stream",
     "text": [
      "Epoch 1/100\n",
      "38/38 [==============================] - 24s 186ms/step - loss: 0.4578 - val_loss: 0.0866\n",
      "Epoch 2/100\n",
      "38/38 [==============================] - 5s 131ms/step - loss: 0.2724 - val_loss: 0.0351\n",
      "Epoch 3/100\n",
      "38/38 [==============================] - 5s 128ms/step - loss: 0.1926 - val_loss: 0.0064\n",
      "Epoch 4/100\n",
      "38/38 [==============================] - 5s 122ms/step - loss: 0.1635 - val_loss: 0.0245\n",
      "Epoch 5/100\n",
      "38/38 [==============================] - 5s 134ms/step - loss: 0.1369 - val_loss: 0.0357\n",
      "Epoch 6/100\n",
      "38/38 [==============================] - 5s 120ms/step - loss: 0.1126 - val_loss: 0.0016\n",
      "Epoch 7/100\n",
      "38/38 [==============================] - 5s 126ms/step - loss: 0.0931 - val_loss: 0.0140\n",
      "Epoch 8/100\n",
      "38/38 [==============================] - 5s 131ms/step - loss: 0.0765 - val_loss: 0.0018\n",
      "Epoch 9/100\n",
      "38/38 [==============================] - 5s 129ms/step - loss: 0.0691 - val_loss: 0.0256\n",
      "Epoch 10/100\n",
      "38/38 [==============================] - 5s 124ms/step - loss: 0.0582 - val_loss: 0.0058\n",
      "Epoch 11/100\n",
      "38/38 [==============================] - 5s 129ms/step - loss: 0.0550 - val_loss: 0.0359\n",
      "Epoch 12/100\n",
      "38/38 [==============================] - 5s 126ms/step - loss: 0.0482 - val_loss: 0.0295\n",
      "Epoch 13/100\n",
      "38/38 [==============================] - 5s 122ms/step - loss: 0.0414 - val_loss: 0.0131\n",
      "Epoch 14/100\n",
      "38/38 [==============================] - 5s 130ms/step - loss: 0.0333 - val_loss: 0.0069\n",
      "Epoch 15/100\n",
      "38/38 [==============================] - 5s 119ms/step - loss: 0.0308 - val_loss: 0.0365\n",
      "Epoch 16/100\n",
      "38/38 [==============================] - 5s 120ms/step - loss: 0.0291 - val_loss: 0.0170\n",
      "Epoch 17/100\n",
      "38/38 [==============================] - 5s 120ms/step - loss: 0.0251 - val_loss: 0.0055\n",
      "Epoch 18/100\n",
      "38/38 [==============================] - 4s 115ms/step - loss: 0.0230 - val_loss: 0.0098\n",
      "Epoch 19/100\n",
      "38/38 [==============================] - 4s 117ms/step - loss: 0.0225 - val_loss: 0.0031\n",
      "Epoch 20/100\n",
      "38/38 [==============================] - 4s 116ms/step - loss: 0.0193 - val_loss: 0.0153\n",
      "Epoch 21/100\n",
      "38/38 [==============================] - 4s 116ms/step - loss: 0.0173 - val_loss: 0.0015\n",
      "Epoch 22/100\n",
      "38/38 [==============================] - 4s 114ms/step - loss: 0.0161 - val_loss: 0.0021\n",
      "Epoch 23/100\n",
      "38/38 [==============================] - 4s 112ms/step - loss: 0.0143 - val_loss: 0.0038\n",
      "Epoch 24/100\n",
      "38/38 [==============================] - 5s 120ms/step - loss: 0.0149 - val_loss: 0.0014\n",
      "Epoch 25/100\n",
      "38/38 [==============================] - 4s 116ms/step - loss: 0.0120 - val_loss: 0.0030\n",
      "Epoch 26/100\n",
      "38/38 [==============================] - 4s 115ms/step - loss: 0.0120 - val_loss: 0.0048\n",
      "Epoch 27/100\n",
      "38/38 [==============================] - 4s 114ms/step - loss: 0.0109 - val_loss: 0.0039\n",
      "Epoch 28/100\n",
      "38/38 [==============================] - 4s 119ms/step - loss: 0.0114 - val_loss: 0.0038\n",
      "Epoch 29/100\n",
      "38/38 [==============================] - 4s 109ms/step - loss: 0.0103 - val_loss: 6.1392e-04\n",
      "Epoch 30/100\n",
      "38/38 [==============================] - 4s 115ms/step - loss: 0.0092 - val_loss: 0.0047\n",
      "Epoch 31/100\n",
      "38/38 [==============================] - 4s 112ms/step - loss: 0.0092 - val_loss: 0.0049\n",
      "Epoch 32/100\n",
      "38/38 [==============================] - 4s 119ms/step - loss: 0.0089 - val_loss: 0.0043\n",
      "Epoch 33/100\n",
      "38/38 [==============================] - 5s 129ms/step - loss: 0.0081 - val_loss: 0.0012\n",
      "Epoch 34/100\n",
      "38/38 [==============================] - 5s 119ms/step - loss: 0.0081 - val_loss: 0.0027\n",
      "Epoch 35/100\n",
      "38/38 [==============================] - 5s 120ms/step - loss: 0.0069 - val_loss: 0.0019\n",
      "Epoch 36/100\n",
      "38/38 [==============================] - 5s 121ms/step - loss: 0.0067 - val_loss: 0.0028\n",
      "Epoch 37/100\n",
      "38/38 [==============================] - 4s 116ms/step - loss: 0.0063 - val_loss: 5.7950e-04\n",
      "Epoch 38/100\n",
      "38/38 [==============================] - 5s 138ms/step - loss: 0.0061 - val_loss: 5.3586e-04\n",
      "Epoch 39/100\n",
      "38/38 [==============================] - 5s 143ms/step - loss: 0.0063 - val_loss: 0.0011\n",
      "Epoch 40/100\n",
      "38/38 [==============================] - 4s 115ms/step - loss: 0.0055 - val_loss: 5.3655e-04\n",
      "Epoch 41/100\n",
      "38/38 [==============================] - 4s 112ms/step - loss: 0.0061 - val_loss: 9.9842e-04\n",
      "Epoch 42/100\n",
      "38/38 [==============================] - 4s 108ms/step - loss: 0.0059 - val_loss: 0.0011\n",
      "Epoch 43/100\n",
      "38/38 [==============================] - 4s 114ms/step - loss: 0.0055 - val_loss: 0.0049\n",
      "Epoch 44/100\n",
      "38/38 [==============================] - 4s 117ms/step - loss: 0.0053 - val_loss: 0.0022\n",
      "Epoch 45/100\n",
      "38/38 [==============================] - 5s 121ms/step - loss: 0.0049 - val_loss: 9.1008e-04\n",
      "Epoch 46/100\n",
      "38/38 [==============================] - 4s 106ms/step - loss: 0.0054 - val_loss: 5.2165e-04\n",
      "Epoch 47/100\n",
      "38/38 [==============================] - 5s 122ms/step - loss: 0.0045 - val_loss: 0.0011\n",
      "Epoch 48/100\n",
      "38/38 [==============================] - 5s 121ms/step - loss: 0.0046 - val_loss: 0.0030\n",
      "Epoch 49/100\n",
      "38/38 [==============================] - 4s 118ms/step - loss: 0.0045 - val_loss: 0.0014\n",
      "Epoch 50/100\n",
      "38/38 [==============================] - 5s 124ms/step - loss: 0.0041 - val_loss: 6.5931e-04\n",
      "Epoch 51/100\n",
      "38/38 [==============================] - 4s 111ms/step - loss: 0.0042 - val_loss: 0.0022\n",
      "Epoch 52/100\n",
      "38/38 [==============================] - 5s 122ms/step - loss: 0.0042 - val_loss: 0.0062\n",
      "Epoch 53/100\n",
      "38/38 [==============================] - 5s 120ms/step - loss: 0.0040 - val_loss: 0.0014\n",
      "Epoch 54/100\n",
      "38/38 [==============================] - 4s 117ms/step - loss: 0.0038 - val_loss: 6.0353e-04\n",
      "Epoch 55/100\n",
      "38/38 [==============================] - 5s 121ms/step - loss: 0.0035 - val_loss: 0.0012\n",
      "Epoch 56/100\n",
      "38/38 [==============================] - 5s 121ms/step - loss: 0.0037 - val_loss: 6.0822e-04\n",
      "Epoch 57/100\n",
      "38/38 [==============================] - 5s 121ms/step - loss: 0.0031 - val_loss: 9.6561e-04\n",
      "Epoch 58/100\n",
      "38/38 [==============================] - 5s 123ms/step - loss: 0.0034 - val_loss: 0.0023\n",
      "Epoch 59/100\n",
      "38/38 [==============================] - 4s 117ms/step - loss: 0.0034 - val_loss: 6.8880e-04\n",
      "Epoch 60/100\n",
      "38/38 [==============================] - 5s 121ms/step - loss: 0.0035 - val_loss: 0.0026\n",
      "Epoch 61/100\n",
      "38/38 [==============================] - 5s 127ms/step - loss: 0.0034 - val_loss: 0.0028\n",
      "Epoch 62/100\n",
      "38/38 [==============================] - 5s 124ms/step - loss: 0.0037 - val_loss: 5.3778e-04\n",
      "Epoch 63/100\n",
      "38/38 [==============================] - 5s 121ms/step - loss: 0.0033 - val_loss: 0.0013\n",
      "Epoch 64/100\n",
      "38/38 [==============================] - 5s 120ms/step - loss: 0.0027 - val_loss: 9.9818e-04\n",
      "Epoch 65/100\n",
      "38/38 [==============================] - 5s 125ms/step - loss: 0.0028 - val_loss: 5.1389e-04\n",
      "Epoch 66/100\n",
      "38/38 [==============================] - 5s 122ms/step - loss: 0.0028 - val_loss: 8.9109e-04\n",
      "Epoch 67/100\n",
      "38/38 [==============================] - 5s 127ms/step - loss: 0.0028 - val_loss: 8.3028e-04\n",
      "Epoch 68/100\n",
      "38/38 [==============================] - 4s 118ms/step - loss: 0.0027 - val_loss: 7.0444e-04\n",
      "Epoch 69/100\n",
      "38/38 [==============================] - 5s 119ms/step - loss: 0.0029 - val_loss: 8.5377e-04\n",
      "Epoch 70/100\n",
      "38/38 [==============================] - 5s 120ms/step - loss: 0.0026 - val_loss: 4.9858e-04\n",
      "Epoch 71/100\n",
      "38/38 [==============================] - 5s 123ms/step - loss: 0.0029 - val_loss: 0.0018\n",
      "Epoch 72/100\n",
      "38/38 [==============================] - 5s 123ms/step - loss: 0.0027 - val_loss: 4.7955e-04\n",
      "Epoch 73/100\n",
      "38/38 [==============================] - 5s 124ms/step - loss: 0.0027 - val_loss: 0.0020\n",
      "Epoch 74/100\n",
      "38/38 [==============================] - 5s 128ms/step - loss: 0.0026 - val_loss: 0.0016\n",
      "Epoch 75/100\n",
      "38/38 [==============================] - 5s 119ms/step - loss: 0.0026 - val_loss: 0.0015\n",
      "Epoch 76/100\n",
      "38/38 [==============================] - 4s 99ms/step - loss: 0.0026 - val_loss: 0.0014\n",
      "Epoch 77/100\n",
      "38/38 [==============================] - 3s 81ms/step - loss: 0.0024 - val_loss: 4.6533e-04\n",
      "Epoch 78/100\n",
      "38/38 [==============================] - 3s 88ms/step - loss: 0.0023 - val_loss: 5.2389e-04\n",
      "Epoch 79/100\n",
      "38/38 [==============================] - 5s 125ms/step - loss: 0.0022 - val_loss: 6.6597e-04\n",
      "Epoch 80/100\n",
      "38/38 [==============================] - 4s 111ms/step - loss: 0.0023 - val_loss: 8.8283e-04\n",
      "Epoch 81/100\n",
      "38/38 [==============================] - 4s 102ms/step - loss: 0.0023 - val_loss: 4.6722e-04\n",
      "Epoch 82/100\n",
      "38/38 [==============================] - 4s 112ms/step - loss: 0.0022 - val_loss: 8.6154e-04\n",
      "Epoch 83/100\n",
      "38/38 [==============================] - 4s 115ms/step - loss: 0.0022 - val_loss: 0.0012\n",
      "Epoch 84/100\n",
      "38/38 [==============================] - 4s 107ms/step - loss: 0.0024 - val_loss: 4.8399e-04\n",
      "Epoch 85/100\n",
      "38/38 [==============================] - 4s 104ms/step - loss: 0.0022 - val_loss: 7.9580e-04\n",
      "Epoch 86/100\n",
      "38/38 [==============================] - 4s 103ms/step - loss: 0.0021 - val_loss: 0.0010\n",
      "Epoch 87/100\n",
      "38/38 [==============================] - 4s 107ms/step - loss: 0.0020 - val_loss: 5.9831e-04\n",
      "Epoch 88/100\n",
      "38/38 [==============================] - 4s 105ms/step - loss: 0.0020 - val_loss: 9.9827e-04\n",
      "Epoch 89/100\n",
      "38/38 [==============================] - 4s 105ms/step - loss: 0.0021 - val_loss: 0.0014\n",
      "Epoch 90/100\n",
      "38/38 [==============================] - 5s 124ms/step - loss: 0.0020 - val_loss: 5.2648e-04\n",
      "Epoch 91/100\n",
      "38/38 [==============================] - 5s 124ms/step - loss: 0.0020 - val_loss: 5.2098e-04\n",
      "Epoch 92/100\n",
      "38/38 [==============================] - 4s 110ms/step - loss: 0.0023 - val_loss: 6.4892e-04\n",
      "Epoch 93/100\n",
      "38/38 [==============================] - 4s 113ms/step - loss: 0.0018 - val_loss: 7.6620e-04\n",
      "Epoch 94/100\n",
      "38/38 [==============================] - 4s 119ms/step - loss: 0.0019 - val_loss: 5.6180e-04\n",
      "Epoch 95/100\n",
      "38/38 [==============================] - 4s 118ms/step - loss: 0.0019 - val_loss: 4.6304e-04\n",
      "Epoch 96/100\n",
      "38/38 [==============================] - 4s 111ms/step - loss: 0.0019 - val_loss: 0.0015\n",
      "Epoch 97/100\n",
      "38/38 [==============================] - 4s 107ms/step - loss: 0.0020 - val_loss: 9.9271e-04\n",
      "Epoch 98/100\n",
      "38/38 [==============================] - 4s 104ms/step - loss: 0.0018 - val_loss: 0.0022\n",
      "Epoch 99/100\n",
      "38/38 [==============================] - 4s 113ms/step - loss: 0.0018 - val_loss: 0.0011\n",
      "Epoch 100/100\n",
      "38/38 [==============================] - 5s 122ms/step - loss: 0.0018 - val_loss: 5.1835e-04\n"
     ]
    },
    {
     "data": {
      "text/plain": [
       "<keras.src.callbacks.History at 0x25281690ca0>"
      ]
     },
     "execution_count": 13,
     "metadata": {},
     "output_type": "execute_result"
    }
   ],
   "source": [
    "model.fit(x_train,y_train,epochs=100,batch_size=30,validation_split=0.05)"
   ]
  },
  {
   "cell_type": "markdown",
   "id": "775a544e",
   "metadata": {},
   "source": [
    "### Prepare test dataset"
   ]
  },
  {
   "cell_type": "code",
   "execution_count": 14,
   "id": "ef0e2453",
   "metadata": {},
   "outputs": [],
   "source": [
    "data = pd.concat((train_df['Open'],test_df['Open']),axis=0)"
   ]
  },
  {
   "cell_type": "code",
   "execution_count": 15,
   "id": "923dbaa2",
   "metadata": {},
   "outputs": [
    {
     "data": {
      "text/plain": [
       "(80,)"
      ]
     },
     "execution_count": 15,
     "metadata": {},
     "output_type": "execute_result"
    }
   ],
   "source": [
    "test_input = data.iloc[len(data) - len(test_df) - time : ].values\n",
    "test_input.shape"
   ]
  },
  {
   "cell_type": "code",
   "execution_count": 16,
   "id": "b9135535",
   "metadata": {},
   "outputs": [
    {
     "data": {
      "text/plain": [
       "(80, 1)"
      ]
     },
     "execution_count": 16,
     "metadata": {},
     "output_type": "execute_result"
    }
   ],
   "source": [
    "test_input = test_input.reshape(-1,1)\n",
    "test_input.shape"
   ]
  },
  {
   "cell_type": "code",
   "execution_count": 17,
   "id": "e2cae5d2",
   "metadata": {},
   "outputs": [],
   "source": [
    "test_scaled = scaler.transform(test_input)"
   ]
  },
  {
   "cell_type": "markdown",
   "id": "ff2d1fce",
   "metadata": {},
   "source": [
    "#### Create test data set"
   ]
  },
  {
   "cell_type": "code",
   "execution_count": 18,
   "id": "3b42f414",
   "metadata": {},
   "outputs": [
    {
     "data": {
      "text/plain": [
       "(20, 60)"
      ]
     },
     "execution_count": 18,
     "metadata": {},
     "output_type": "execute_result"
    }
   ],
   "source": [
    "x_test = []\n",
    "for i in range(time,test_scaled.shape[0]):\n",
    "    x_test.append(test_scaled[i - time: i,0 ])\n",
    "x_test = np.array(x_test)\n",
    "x_test.shape"
   ]
  },
  {
   "cell_type": "code",
   "execution_count": 19,
   "id": "9b65f6cb",
   "metadata": {},
   "outputs": [
    {
     "data": {
      "text/plain": [
       "(20, 60, 1)"
      ]
     },
     "execution_count": 19,
     "metadata": {},
     "output_type": "execute_result"
    }
   ],
   "source": [
    "x_test = np.reshape(x_test,newshape=(x_test.shape[0],x_test.shape[1],1))\n",
    "x_test.shape"
   ]
  },
  {
   "cell_type": "code",
   "execution_count": 20,
   "id": "0008a724",
   "metadata": {},
   "outputs": [],
   "source": [
    "y_test = test_df.loc[:,\"Open\"].values"
   ]
  },
  {
   "cell_type": "markdown",
   "id": "dd4e409b",
   "metadata": {},
   "source": [
    "### Model Prediction"
   ]
  },
  {
   "cell_type": "code",
   "execution_count": 21,
   "id": "99d79639",
   "metadata": {},
   "outputs": [
    {
     "name": "stdout",
     "output_type": "stream",
     "text": [
      "1/1 [==============================] - 5s 5s/step\n"
     ]
    }
   ],
   "source": [
    "y_pred = model.predict(x_test)"
   ]
  },
  {
   "cell_type": "code",
   "execution_count": 22,
   "id": "62f8ac3b",
   "metadata": {},
   "outputs": [],
   "source": [
    "y_pred = scaler.inverse_transform(y_pred)"
   ]
  },
  {
   "cell_type": "code",
   "execution_count": 23,
   "id": "58bf448d",
   "metadata": {},
   "outputs": [
    {
     "name": "stdout",
     "output_type": "stream",
     "text": [
      "1/1 [==============================] - 4s 4s/step - loss: 650778.6875\n"
     ]
    }
   ],
   "source": [
    "output = model.evaluate(x=x_test,y=y_test)"
   ]
  },
  {
   "cell_type": "code",
   "execution_count": 24,
   "id": "7f71b3da",
   "metadata": {},
   "outputs": [
    {
     "data": {
      "image/png": "[encoded data removed]",
      "text/plain": [
       "<Figure size 432x288 with 1 Axes>"
      ]
     },
     "metadata": {
      "needs_background": "light"
     },
     "output_type": "display_data"
    }
   ],
   "source": [
    "plt.plot(y_test, color = 'red', label = 'Real price')\n",
    "plt.plot(y_pred, color = 'blue', label = 'Predicted price')\n",
    "\n",
    "plt.title('Google Stock price prediction')\n",
    "plt.xlabel('Time')\n",
    "plt.ylabel('Price')\n",
    "plt.legend()\n",
    "plt.show()"
   ]
  }
 ],
 "metadata": {
  "kernelspec": {
   "display_name": "Python 3",
   "language": "python",
   "name": "python3"
  },
  "language_info": {
   "codemirror_mode": {
    "name": "ipython",
    "version": 3
   },
   "file_extension": ".py",
   "mimetype": "text/x-python",
   "name": "python",
   "nbconvert_exporter": "python",
   "pygments_lexer": "ipython3",
   "version": "3.10.4"
  }
 },
 "nbformat": 4,
 "nbformat_minor": 5
}
